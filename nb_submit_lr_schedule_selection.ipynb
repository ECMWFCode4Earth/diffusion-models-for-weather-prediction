{
 "cells": [
  {
   "cell_type": "code",
   "execution_count": 160,
   "metadata": {},
   "outputs": [],
   "source": [
    "import os\n",
    "\n",
    "import xarray as xr\n",
    "import numpy as np\n",
    "import torch\n",
    "from benchmark.bm.score import compute_weighted_rmse, compute_weighted_mae, compute_weighted_acc\n",
    "\n",
    "import matplotlib\n",
    "import matplotlib.pyplot as plt\n",
    "\n",
    "import copy\n",
    "import matplotlib.gridspec as gridspec\n",
    "\n",
    "from WD.plotting import plot_map, add_label_to_axes\n",
    "\n",
    "import cartopy.crs as ccrs\n",
    "from datetime import datetime"
   ]
  },
  {
   "cell_type": "code",
   "execution_count": 161,
   "metadata": {},
   "outputs": [],
   "source": [
    "names = [\"Constant\", \"ReduceLROnPlateau\", \"StepLR\", \"CosineAnnealingLR\", \"CosineAnnealingWarmRestarts\", \"CosineAnnealingWarmupRestarts\"]\n",
    "ds_id = \"A7B509\""
   ]
  },
  {
   "cell_type": "code",
   "execution_count": 12,
   "metadata": {},
   "outputs": [
    {
     "name": "stdout",
     "output_type": "stream",
     "text": [
      "Submitted batch job 41759167\n",
      "Submitted batch job 41759168\n",
      "Submitted batch job 41759169\n",
      "Submitted batch job 41759170\n",
      "Submitted batch job 41759171\n",
      "Submitted batch job 41759172\n"
     ]
    }
   ],
   "source": [
    "for name in names:\n",
    "    os.system(\"sbatch submit_script_5_lr_schedule_selection.sh -d {} -l {}\".format(ds_id, name))"
   ]
  },
  {
   "cell_type": "code",
   "execution_count": 162,
   "metadata": {},
   "outputs": [],
   "source": [
    "model_ids = [\"23CD86\",\"04EA1C\", \"8DFE77\", \"7AB0CF\", \"2DB6A9\", \"4206A6\"]\n",
    "model_ids_mse_loss = [\"8F3861\",\"0F3525\", \"D359F7\", \"2464FD\", \"30604C\", \"5C39F8\"]"
   ]
  },
  {
   "cell_type": "code",
   "execution_count": null,
   "metadata": {},
   "outputs": [],
   "source": [
    "for model_id in model_ids_mse_loss:\n",
    "    os.system(\"sbatch submit_script_3_eval.sh -d {} -m {} -e {}\".format(ds_id, model_id, 1))"
   ]
  },
  {
   "cell_type": "code",
   "execution_count": 171,
   "metadata": {},
   "outputs": [
    {
     "name": "stdout",
     "output_type": "stream",
     "text": [
      "Submitted batch job 42711086\n",
      "Submitted batch job 42711087\n",
      "Submitted batch job 42711088\n",
      "Submitted batch job 42711089\n",
      "Submitted batch job 42711090\n",
      "Submitted batch job 42711091\n"
     ]
    }
   ],
   "source": [
    "for model_id in model_ids:\n",
    "    os.system(\"sbatch submit_script_3_eval.sh -d {} -m {} -e {}\".format(ds_id, model_id, 1))"
   ]
  },
  {
   "cell_type": "code",
   "execution_count": 173,
   "metadata": {},
   "outputs": [],
   "source": [
    "predictions_experiments = {}\n",
    "targets_experiments = {}\n",
    "\n",
    "\n",
    "for model_id in model_ids:\n",
    "    predictions_experiments[model_id] = xr.load_dataset(f\"/data/compoundx/WeatherDiff/model_output/{ds_id}/{model_id}_gen.nc\")\n",
    "    targets_experiments[model_id] = xr.load_dataset(f\"/data/compoundx/WeatherDiff/model_output/{ds_id}/{model_id}_target.nc\")"
   ]
  },
  {
   "cell_type": "code",
   "execution_count": 175,
   "metadata": {},
   "outputs": [
    {
     "name": "stdout",
     "output_type": "stream",
     "text": [
      "23CD86, RMSE is 942.4\n",
      "04EA1C, RMSE is 627.5\n",
      "8DFE77, RMSE is 626.4\n",
      "7AB0CF, RMSE is 633.0\n",
      "2DB6A9, RMSE is 603.9\n",
      "4206A6, RMSE is 620.3\n"
     ]
    }
   ],
   "source": [
    "rmse_maps = {}\n",
    "rmse = {}\n",
    "r2 = {}\n",
    "r2_maps = {}\n",
    "\n",
    "for model_id in model_ids:\n",
    "    rmse[model_id] = compute_weighted_rmse(predictions_experiments[model_id].isel({\"ensemble_member\":0}), targets_experiments[model_id].isel({\"ensemble_member\":0}))\n",
    "    rmse_maps[model_id] = compute_weighted_rmse(predictions_experiments[model_id].isel({\"ensemble_member\":0}), targets_experiments[model_id].isel({\"ensemble_member\":0}), mean_dims=(\"init_time\", \"lead_time\"))\n",
    "    print(\"{}, RMSE is {:.1f}\".format(model_id, rmse[model_id].z_500.values))"
   ]
  },
  {
   "cell_type": "code",
   "execution_count": 176,
   "metadata": {},
   "outputs": [],
   "source": [
    "predictions_experiments = {}\n",
    "targets_experiments = {}\n",
    "\n",
    "\n",
    "for model_id in model_ids_mse_loss:\n",
    "    predictions_experiments[model_id] = xr.load_dataset(f\"/data/compoundx/WeatherDiff/model_output/{ds_id}/{model_id}_gen.nc\")\n",
    "    targets_experiments[model_id] = xr.load_dataset(f\"/data/compoundx/WeatherDiff/model_output/{ds_id}/{model_id}_target.nc\")"
   ]
  },
  {
   "cell_type": "code",
   "execution_count": 177,
   "metadata": {},
   "outputs": [
    {
     "name": "stdout",
     "output_type": "stream",
     "text": [
      "8F3861, RMSE is 624.5\n",
      "0F3525, RMSE is 638.9\n",
      "D359F7, RMSE is 641.6\n",
      "2464FD, RMSE is 643.3\n",
      "30604C, RMSE is 622.6\n",
      "5C39F8, RMSE is 645.1\n"
     ]
    }
   ],
   "source": [
    "rmse_maps = {}\n",
    "rmse = {}\n",
    "r2 = {}\n",
    "r2_maps = {}\n",
    "\n",
    "for model_id in model_ids_mse_loss:\n",
    "    rmse[model_id] = compute_weighted_rmse(predictions_experiments[model_id].isel({\"ensemble_member\":0}), targets_experiments[model_id].isel({\"ensemble_member\":0}))\n",
    "    rmse_maps[model_id] = compute_weighted_rmse(predictions_experiments[model_id].isel({\"ensemble_member\":0}), targets_experiments[model_id].isel({\"ensemble_member\":0}), mean_dims=(\"init_time\", \"lead_time\"))\n",
    "    print(\"{}, RMSE is {:.1f}\".format(model_id, rmse[model_id].z_500.values))"
   ]
  }
 ],
 "metadata": {
  "kernelspec": {
   "display_name": "TORCH311",
   "language": "python",
   "name": "python3"
  },
  "language_info": {
   "codemirror_mode": {
    "name": "ipython",
    "version": 3
   },
   "file_extension": ".py",
   "mimetype": "text/x-python",
   "name": "python",
   "nbconvert_exporter": "python",
   "pygments_lexer": "ipython3",
   "version": "3.11.3"
  },
  "orig_nbformat": 4
 },
 "nbformat": 4,
 "nbformat_minor": 2
}
