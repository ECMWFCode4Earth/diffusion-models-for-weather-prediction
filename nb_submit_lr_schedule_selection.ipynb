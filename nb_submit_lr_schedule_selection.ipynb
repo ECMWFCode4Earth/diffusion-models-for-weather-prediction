{
 "cells": [
  {
   "cell_type": "code",
   "execution_count": 1,
   "metadata": {},
   "outputs": [],
   "source": [
    "import os\n",
    "\n",
    "import xarray as xr\n",
    "import numpy as np\n",
    "import torch\n",
    "from benchmark.bm.score import compute_weighted_rmse, compute_weighted_mae, compute_weighted_acc\n",
    "\n",
    "import matplotlib\n",
    "import matplotlib.pyplot as plt\n",
    "\n",
    "import copy\n",
    "import matplotlib.gridspec as gridspec\n",
    "\n",
    "from WD.plotting import plot_map, add_label_to_axes\n",
    "\n",
    "import cartopy.crs as ccrs\n",
    "from datetime import datetime"
   ]
  },
  {
   "cell_type": "code",
   "execution_count": 161,
   "metadata": {},
   "outputs": [],
   "source": [
    "names = [\"Constant\", \"ReduceLROnPlateau\", \"StepLR\", \"CosineAnnealingLR\", \"CosineAnnealingWarmRestarts\", \"CosineAnnealingWarmupRestarts\"]\n",
    "ds_id = \"A7B509\""
   ]
  },
  {
   "cell_type": "code",
   "execution_count": 12,
   "metadata": {},
   "outputs": [
    {
     "name": "stdout",
     "output_type": "stream",
     "text": [
      "Submitted batch job 41759167\n",
      "Submitted batch job 41759168\n",
      "Submitted batch job 41759169\n",
      "Submitted batch job 41759170\n",
      "Submitted batch job 41759171\n",
      "Submitted batch job 41759172\n"
     ]
    }
   ],
   "source": [
    "for name in names:\n",
    "    os.system(\"sbatch submit_script_5_lr_schedule_selection.sh -d {} -l {}\".format(ds_id, name))"
   ]
  },
  {
   "cell_type": "code",
   "execution_count": 162,
   "metadata": {},
   "outputs": [],
   "source": [
    "model_ids = [\"23CD86\",\"04EA1C\", \"8DFE77\", \"7AB0CF\", \"2DB6A9\", \"4206A6\"]\n",
    "model_ids_mse_loss = [\"8F3861\",\"0F3525\", \"D359F7\", \"2464FD\", \"30604C\", \"5C39F8\"]"
   ]
  },
  {
   "cell_type": "code",
   "execution_count": null,
   "metadata": {},
   "outputs": [],
   "source": [
    "for model_id in model_ids_mse_loss:\n",
    "    os.system(\"sbatch submit_script_3_eval.sh -d {} -m {} -e {}\".format(ds_id, model_id, 1))"
   ]
  },
  {
   "cell_type": "code",
   "execution_count": 171,
   "metadata": {},
   "outputs": [
    {
     "name": "stdout",
     "output_type": "stream",
     "text": [
      "Submitted batch job 42711086\n",
      "Submitted batch job 42711087\n",
      "Submitted batch job 42711088\n",
      "Submitted batch job 42711089\n",
      "Submitted batch job 42711090\n",
      "Submitted batch job 42711091\n"
     ]
    }
   ],
   "source": [
    "for model_id in model_ids:\n",
    "    os.system(\"sbatch submit_script_3_eval.sh -d {} -m {} -e {}\".format(ds_id, model_id, 1))"
   ]
  },
  {
   "cell_type": "code",
   "execution_count": 173,
   "metadata": {},
   "outputs": [],
   "source": [
    "predictions_experiments = {}\n",
    "targets_experiments = {}\n",
    "\n",
    "\n",
    "for model_id in model_ids:\n",
    "    predictions_experiments[model_id] = xr.load_dataset(f\"/data/compoundx/WeatherDiff/model_output/{ds_id}/{model_id}_gen.nc\")\n",
    "    targets_experiments[model_id] = xr.load_dataset(f\"/data/compoundx/WeatherDiff/model_output/{ds_id}/{model_id}_target.nc\")"
   ]
  },
  {
   "cell_type": "code",
   "execution_count": 175,
   "metadata": {},
   "outputs": [
    {
     "name": "stdout",
     "output_type": "stream",
     "text": [
      "23CD86, RMSE is 942.4\n",
      "04EA1C, RMSE is 627.5\n",
      "8DFE77, RMSE is 626.4\n",
      "7AB0CF, RMSE is 633.0\n",
      "2DB6A9, RMSE is 603.9\n",
      "4206A6, RMSE is 620.3\n"
     ]
    }
   ],
   "source": [
    "rmse_maps = {}\n",
    "rmse = {}\n",
    "r2 = {}\n",
    "r2_maps = {}\n",
    "\n",
    "for model_id in model_ids:\n",
    "    rmse[model_id] = compute_weighted_rmse(predictions_experiments[model_id].isel({\"ensemble_member\":0}), targets_experiments[model_id].isel({\"ensemble_member\":0}))\n",
    "    rmse_maps[model_id] = compute_weighted_rmse(predictions_experiments[model_id].isel({\"ensemble_member\":0}), targets_experiments[model_id].isel({\"ensemble_member\":0}), mean_dims=(\"init_time\", \"lead_time\"))\n",
    "    print(\"{}, RMSE is {:.1f}\".format(model_id, rmse[model_id].z_500.values))"
   ]
  },
  {
   "cell_type": "code",
   "execution_count": 176,
   "metadata": {},
   "outputs": [],
   "source": [
    "predictions_experiments = {}\n",
    "targets_experiments = {}\n",
    "\n",
    "\n",
    "for model_id in model_ids_mse_loss:\n",
    "    predictions_experiments[model_id] = xr.load_dataset(f\"/data/compoundx/WeatherDiff/model_output/{ds_id}/{model_id}_gen.nc\")\n",
    "    targets_experiments[model_id] = xr.load_dataset(f\"/data/compoundx/WeatherDiff/model_output/{ds_id}/{model_id}_target.nc\")"
   ]
  },
  {
   "cell_type": "code",
   "execution_count": 177,
   "metadata": {},
   "outputs": [
    {
     "name": "stdout",
     "output_type": "stream",
     "text": [
      "8F3861, RMSE is 624.5\n",
      "0F3525, RMSE is 638.9\n",
      "D359F7, RMSE is 641.6\n",
      "2464FD, RMSE is 643.3\n",
      "30604C, RMSE is 622.6\n",
      "5C39F8, RMSE is 645.1\n"
     ]
    }
   ],
   "source": [
    "rmse_maps = {}\n",
    "rmse = {}\n",
    "r2 = {}\n",
    "r2_maps = {}\n",
    "\n",
    "for model_id in model_ids_mse_loss:\n",
    "    rmse[model_id] = compute_weighted_rmse(predictions_experiments[model_id].isel({\"ensemble_member\":0}), targets_experiments[model_id].isel({\"ensemble_member\":0}))\n",
    "    rmse_maps[model_id] = compute_weighted_rmse(predictions_experiments[model_id].isel({\"ensemble_member\":0}), targets_experiments[model_id].isel({\"ensemble_member\":0}), mean_dims=(\"init_time\", \"lead_time\"))\n",
    "    print(\"{}, RMSE is {:.1f}\".format(model_id, rmse[model_id].z_500.values))"
   ]
  },
  {
   "cell_type": "code",
   "execution_count": 2,
   "metadata": {},
   "outputs": [],
   "source": [
    "ds_id = \"96FE8A\"\n",
    "model_id = \"B43C82\""
   ]
  },
  {
   "cell_type": "code",
   "execution_count": 3,
   "metadata": {},
   "outputs": [],
   "source": [
    "predictions_experiments = xr.load_dataset(f\"/data/compoundx/WeatherDiff/model_output/{ds_id}/{model_id}_gen.nc\")\n",
    "targets_experiments = xr.load_dataset(f\"/data/compoundx/WeatherDiff/model_output/{ds_id}/{model_id}_target.nc\")"
   ]
  },
  {
   "cell_type": "code",
   "execution_count": 8,
   "metadata": {},
   "outputs": [
    {
     "name": "stdout",
     "output_type": "stream",
     "text": [
      "B43C82, RMSE is 596.3\n"
     ]
    }
   ],
   "source": [
    "rmse = compute_weighted_rmse(predictions_experiments.isel({\"ensemble_member\":0}), targets_experiments.isel({\"ensemble_member\":0}))\n",
    "print(\"{}, RMSE is {:.1f}\".format(model_id, rmse.z.values))"
   ]
  },
  {
   "cell_type": "code",
   "execution_count": 3,
   "metadata": {},
   "outputs": [],
   "source": [
    "ds_id = \"96FE8A\"\n",
    "model_id = \"1AE204\""
   ]
  },
  {
   "cell_type": "code",
   "execution_count": 4,
   "metadata": {},
   "outputs": [],
   "source": [
    "predictions_experiments = xr.load_dataset(f\"/data/compoundx/WeatherDiff/model_output/{ds_id}/{model_id}_gen.nc\")\n",
    "targets_experiments = xr.load_dataset(f\"/data/compoundx/WeatherDiff/model_output/{ds_id}/{model_id}_target.nc\")"
   ]
  },
  {
   "cell_type": "code",
   "execution_count": 5,
   "metadata": {},
   "outputs": [
    {
     "name": "stdout",
     "output_type": "stream",
     "text": [
      "1AE204, RMSE_z is 615.9\n"
     ]
    },
    {
     "data": {
      "text/plain": [
       "'\\nrmse = compute_weighted_rmse(predictions_experiments.isel({\"ensemble_member\":0}), targets_experiments.isel({\"ensemble_member\":0}))\\nprint(\"{}, RMSE_t is {:.1f}\".format(model_id, rmse.t.values))\\n\\nrmse = compute_weighted_rmse(predictions_experiments.isel({\"ensemble_member\":0}), targets_experiments.isel({\"ensemble_member\":0}))\\nprint(\"{}, RMSE_t2m is {:.1f}\".format(model_id, rmse.t2m.values))\\n'"
      ]
     },
     "execution_count": 5,
     "metadata": {},
     "output_type": "execute_result"
    }
   ],
   "source": [
    "rmse = compute_weighted_rmse(predictions_experiments.isel({\"ensemble_member\":0}), targets_experiments.isel({\"ensemble_member\":0}))\n",
    "print(\"{}, RMSE_z is {:.1f}\".format(model_id, rmse.z.values))\n",
    "\"\"\"\n",
    "rmse = compute_weighted_rmse(predictions_experiments.isel({\"ensemble_member\":0}), targets_experiments.isel({\"ensemble_member\":0}))\n",
    "print(\"{}, RMSE_t is {:.1f}\".format(model_id, rmse.t.values))\n",
    "\n",
    "rmse = compute_weighted_rmse(predictions_experiments.isel({\"ensemble_member\":0}), targets_experiments.isel({\"ensemble_member\":0}))\n",
    "print(\"{}, RMSE_t2m is {:.1f}\".format(model_id, rmse.t2m.values))\n",
    "\"\"\""
   ]
  },
  {
   "cell_type": "code",
   "execution_count": 7,
   "metadata": {},
   "outputs": [
    {
     "data": {
      "text/html": [
       "<div><svg style=\"position: absolute; width: 0; height: 0; overflow: hidden\">\n",
       "<defs>\n",
       "<symbol id=\"icon-database\" viewBox=\"0 0 32 32\">\n",
       "<path d=\"M16 0c-8.837 0-16 2.239-16 5v4c0 2.761 7.163 5 16 5s16-2.239 16-5v-4c0-2.761-7.163-5-16-5z\"></path>\n",
       "<path d=\"M16 17c-8.837 0-16-2.239-16-5v6c0 2.761 7.163 5 16 5s16-2.239 16-5v-6c0 2.761-7.163 5-16 5z\"></path>\n",
       "<path d=\"M16 26c-8.837 0-16-2.239-16-5v6c0 2.761 7.163 5 16 5s16-2.239 16-5v-6c0 2.761-7.163 5-16 5z\"></path>\n",
       "</symbol>\n",
       "<symbol id=\"icon-file-text2\" viewBox=\"0 0 32 32\">\n",
       "<path d=\"M28.681 7.159c-0.694-0.947-1.662-2.053-2.724-3.116s-2.169-2.030-3.116-2.724c-1.612-1.182-2.393-1.319-2.841-1.319h-15.5c-1.378 0-2.5 1.121-2.5 2.5v27c0 1.378 1.122 2.5 2.5 2.5h23c1.378 0 2.5-1.122 2.5-2.5v-19.5c0-0.448-0.137-1.23-1.319-2.841zM24.543 5.457c0.959 0.959 1.712 1.825 2.268 2.543h-4.811v-4.811c0.718 0.556 1.584 1.309 2.543 2.268zM28 29.5c0 0.271-0.229 0.5-0.5 0.5h-23c-0.271 0-0.5-0.229-0.5-0.5v-27c0-0.271 0.229-0.5 0.5-0.5 0 0 15.499-0 15.5 0v7c0 0.552 0.448 1 1 1h7v19.5z\"></path>\n",
       "<path d=\"M23 26h-14c-0.552 0-1-0.448-1-1s0.448-1 1-1h14c0.552 0 1 0.448 1 1s-0.448 1-1 1z\"></path>\n",
       "<path d=\"M23 22h-14c-0.552 0-1-0.448-1-1s0.448-1 1-1h14c0.552 0 1 0.448 1 1s-0.448 1-1 1z\"></path>\n",
       "<path d=\"M23 18h-14c-0.552 0-1-0.448-1-1s0.448-1 1-1h14c0.552 0 1 0.448 1 1s-0.448 1-1 1z\"></path>\n",
       "</symbol>\n",
       "</defs>\n",
       "</svg>\n",
       "<style>/* CSS stylesheet for displaying xarray objects in jupyterlab.\n",
       " *\n",
       " */\n",
       "\n",
       ":root {\n",
       "  --xr-font-color0: var(--jp-content-font-color0, rgba(0, 0, 0, 1));\n",
       "  --xr-font-color2: var(--jp-content-font-color2, rgba(0, 0, 0, 0.54));\n",
       "  --xr-font-color3: var(--jp-content-font-color3, rgba(0, 0, 0, 0.38));\n",
       "  --xr-border-color: var(--jp-border-color2, #e0e0e0);\n",
       "  --xr-disabled-color: var(--jp-layout-color3, #bdbdbd);\n",
       "  --xr-background-color: var(--jp-layout-color0, white);\n",
       "  --xr-background-color-row-even: var(--jp-layout-color1, white);\n",
       "  --xr-background-color-row-odd: var(--jp-layout-color2, #eeeeee);\n",
       "}\n",
       "\n",
       "html[theme=dark],\n",
       "body[data-theme=dark],\n",
       "body.vscode-dark {\n",
       "  --xr-font-color0: rgba(255, 255, 255, 1);\n",
       "  --xr-font-color2: rgba(255, 255, 255, 0.54);\n",
       "  --xr-font-color3: rgba(255, 255, 255, 0.38);\n",
       "  --xr-border-color: #1F1F1F;\n",
       "  --xr-disabled-color: #515151;\n",
       "  --xr-background-color: #111111;\n",
       "  --xr-background-color-row-even: #111111;\n",
       "  --xr-background-color-row-odd: #313131;\n",
       "}\n",
       "\n",
       ".xr-wrap {\n",
       "  display: block !important;\n",
       "  min-width: 300px;\n",
       "  max-width: 700px;\n",
       "}\n",
       "\n",
       ".xr-text-repr-fallback {\n",
       "  /* fallback to plain text repr when CSS is not injected (untrusted notebook) */\n",
       "  display: none;\n",
       "}\n",
       "\n",
       ".xr-header {\n",
       "  padding-top: 6px;\n",
       "  padding-bottom: 6px;\n",
       "  margin-bottom: 4px;\n",
       "  border-bottom: solid 1px var(--xr-border-color);\n",
       "}\n",
       "\n",
       ".xr-header > div,\n",
       ".xr-header > ul {\n",
       "  display: inline;\n",
       "  margin-top: 0;\n",
       "  margin-bottom: 0;\n",
       "}\n",
       "\n",
       ".xr-obj-type,\n",
       ".xr-array-name {\n",
       "  margin-left: 2px;\n",
       "  margin-right: 10px;\n",
       "}\n",
       "\n",
       ".xr-obj-type {\n",
       "  color: var(--xr-font-color2);\n",
       "}\n",
       "\n",
       ".xr-sections {\n",
       "  padding-left: 0 !important;\n",
       "  display: grid;\n",
       "  grid-template-columns: 150px auto auto 1fr 20px 20px;\n",
       "}\n",
       "\n",
       ".xr-section-item {\n",
       "  display: contents;\n",
       "}\n",
       "\n",
       ".xr-section-item input {\n",
       "  display: none;\n",
       "}\n",
       "\n",
       ".xr-section-item input + label {\n",
       "  color: var(--xr-disabled-color);\n",
       "}\n",
       "\n",
       ".xr-section-item input:enabled + label {\n",
       "  cursor: pointer;\n",
       "  color: var(--xr-font-color2);\n",
       "}\n",
       "\n",
       ".xr-section-item input:enabled + label:hover {\n",
       "  color: var(--xr-font-color0);\n",
       "}\n",
       "\n",
       ".xr-section-summary {\n",
       "  grid-column: 1;\n",
       "  color: var(--xr-font-color2);\n",
       "  font-weight: 500;\n",
       "}\n",
       "\n",
       ".xr-section-summary > span {\n",
       "  display: inline-block;\n",
       "  padding-left: 0.5em;\n",
       "}\n",
       "\n",
       ".xr-section-summary-in:disabled + label {\n",
       "  color: var(--xr-font-color2);\n",
       "}\n",
       "\n",
       ".xr-section-summary-in + label:before {\n",
       "  display: inline-block;\n",
       "  content: '►';\n",
       "  font-size: 11px;\n",
       "  width: 15px;\n",
       "  text-align: center;\n",
       "}\n",
       "\n",
       ".xr-section-summary-in:disabled + label:before {\n",
       "  color: var(--xr-disabled-color);\n",
       "}\n",
       "\n",
       ".xr-section-summary-in:checked + label:before {\n",
       "  content: '▼';\n",
       "}\n",
       "\n",
       ".xr-section-summary-in:checked + label > span {\n",
       "  display: none;\n",
       "}\n",
       "\n",
       ".xr-section-summary,\n",
       ".xr-section-inline-details {\n",
       "  padding-top: 4px;\n",
       "  padding-bottom: 4px;\n",
       "}\n",
       "\n",
       ".xr-section-inline-details {\n",
       "  grid-column: 2 / -1;\n",
       "}\n",
       "\n",
       ".xr-section-details {\n",
       "  display: none;\n",
       "  grid-column: 1 / -1;\n",
       "  margin-bottom: 5px;\n",
       "}\n",
       "\n",
       ".xr-section-summary-in:checked ~ .xr-section-details {\n",
       "  display: contents;\n",
       "}\n",
       "\n",
       ".xr-array-wrap {\n",
       "  grid-column: 1 / -1;\n",
       "  display: grid;\n",
       "  grid-template-columns: 20px auto;\n",
       "}\n",
       "\n",
       ".xr-array-wrap > label {\n",
       "  grid-column: 1;\n",
       "  vertical-align: top;\n",
       "}\n",
       "\n",
       ".xr-preview {\n",
       "  color: var(--xr-font-color3);\n",
       "}\n",
       "\n",
       ".xr-array-preview,\n",
       ".xr-array-data {\n",
       "  padding: 0 5px !important;\n",
       "  grid-column: 2;\n",
       "}\n",
       "\n",
       ".xr-array-data,\n",
       ".xr-array-in:checked ~ .xr-array-preview {\n",
       "  display: none;\n",
       "}\n",
       "\n",
       ".xr-array-in:checked ~ .xr-array-data,\n",
       ".xr-array-preview {\n",
       "  display: inline-block;\n",
       "}\n",
       "\n",
       ".xr-dim-list {\n",
       "  display: inline-block !important;\n",
       "  list-style: none;\n",
       "  padding: 0 !important;\n",
       "  margin: 0;\n",
       "}\n",
       "\n",
       ".xr-dim-list li {\n",
       "  display: inline-block;\n",
       "  padding: 0;\n",
       "  margin: 0;\n",
       "}\n",
       "\n",
       ".xr-dim-list:before {\n",
       "  content: '(';\n",
       "}\n",
       "\n",
       ".xr-dim-list:after {\n",
       "  content: ')';\n",
       "}\n",
       "\n",
       ".xr-dim-list li:not(:last-child):after {\n",
       "  content: ',';\n",
       "  padding-right: 5px;\n",
       "}\n",
       "\n",
       ".xr-has-index {\n",
       "  font-weight: bold;\n",
       "}\n",
       "\n",
       ".xr-var-list,\n",
       ".xr-var-item {\n",
       "  display: contents;\n",
       "}\n",
       "\n",
       ".xr-var-item > div,\n",
       ".xr-var-item label,\n",
       ".xr-var-item > .xr-var-name span {\n",
       "  background-color: var(--xr-background-color-row-even);\n",
       "  margin-bottom: 0;\n",
       "}\n",
       "\n",
       ".xr-var-item > .xr-var-name:hover span {\n",
       "  padding-right: 5px;\n",
       "}\n",
       "\n",
       ".xr-var-list > li:nth-child(odd) > div,\n",
       ".xr-var-list > li:nth-child(odd) > label,\n",
       ".xr-var-list > li:nth-child(odd) > .xr-var-name span {\n",
       "  background-color: var(--xr-background-color-row-odd);\n",
       "}\n",
       "\n",
       ".xr-var-name {\n",
       "  grid-column: 1;\n",
       "}\n",
       "\n",
       ".xr-var-dims {\n",
       "  grid-column: 2;\n",
       "}\n",
       "\n",
       ".xr-var-dtype {\n",
       "  grid-column: 3;\n",
       "  text-align: right;\n",
       "  color: var(--xr-font-color2);\n",
       "}\n",
       "\n",
       ".xr-var-preview {\n",
       "  grid-column: 4;\n",
       "}\n",
       "\n",
       ".xr-index-preview {\n",
       "  grid-column: 2 / 5;\n",
       "  color: var(--xr-font-color2);\n",
       "}\n",
       "\n",
       ".xr-var-name,\n",
       ".xr-var-dims,\n",
       ".xr-var-dtype,\n",
       ".xr-preview,\n",
       ".xr-attrs dt {\n",
       "  white-space: nowrap;\n",
       "  overflow: hidden;\n",
       "  text-overflow: ellipsis;\n",
       "  padding-right: 10px;\n",
       "}\n",
       "\n",
       ".xr-var-name:hover,\n",
       ".xr-var-dims:hover,\n",
       ".xr-var-dtype:hover,\n",
       ".xr-attrs dt:hover {\n",
       "  overflow: visible;\n",
       "  width: auto;\n",
       "  z-index: 1;\n",
       "}\n",
       "\n",
       ".xr-var-attrs,\n",
       ".xr-var-data,\n",
       ".xr-index-data {\n",
       "  display: none;\n",
       "  background-color: var(--xr-background-color) !important;\n",
       "  padding-bottom: 5px !important;\n",
       "}\n",
       "\n",
       ".xr-var-attrs-in:checked ~ .xr-var-attrs,\n",
       ".xr-var-data-in:checked ~ .xr-var-data,\n",
       ".xr-index-data-in:checked ~ .xr-index-data {\n",
       "  display: block;\n",
       "}\n",
       "\n",
       ".xr-var-data > table {\n",
       "  float: right;\n",
       "}\n",
       "\n",
       ".xr-var-name span,\n",
       ".xr-var-data,\n",
       ".xr-index-name div,\n",
       ".xr-index-data,\n",
       ".xr-attrs {\n",
       "  padding-left: 25px !important;\n",
       "}\n",
       "\n",
       ".xr-attrs,\n",
       ".xr-var-attrs,\n",
       ".xr-var-data,\n",
       ".xr-index-data {\n",
       "  grid-column: 1 / -1;\n",
       "}\n",
       "\n",
       "dl.xr-attrs {\n",
       "  padding: 0;\n",
       "  margin: 0;\n",
       "  display: grid;\n",
       "  grid-template-columns: 125px auto;\n",
       "}\n",
       "\n",
       ".xr-attrs dt,\n",
       ".xr-attrs dd {\n",
       "  padding: 0;\n",
       "  margin: 0;\n",
       "  float: left;\n",
       "  padding-right: 10px;\n",
       "  width: auto;\n",
       "}\n",
       "\n",
       ".xr-attrs dt {\n",
       "  font-weight: normal;\n",
       "  grid-column: 1;\n",
       "}\n",
       "\n",
       ".xr-attrs dt:hover span {\n",
       "  display: inline-block;\n",
       "  background: var(--xr-background-color);\n",
       "  padding-right: 10px;\n",
       "}\n",
       "\n",
       ".xr-attrs dd {\n",
       "  grid-column: 2;\n",
       "  white-space: pre-wrap;\n",
       "  word-break: break-all;\n",
       "}\n",
       "\n",
       ".xr-icon-database,\n",
       ".xr-icon-file-text2,\n",
       ".xr-no-icon {\n",
       "  display: inline-block;\n",
       "  vertical-align: middle;\n",
       "  width: 1em;\n",
       "  height: 1.5em !important;\n",
       "  stroke-width: 0;\n",
       "  stroke: currentColor;\n",
       "  fill: currentColor;\n",
       "}\n",
       "</style><pre class='xr-text-repr-fallback'>&lt;xarray.Dataset&gt;\n",
       "Dimensions:          ()\n",
       "Coordinates:\n",
       "    ensemble_member  int64 0\n",
       "Data variables:\n",
       "    z                float64 638.2\n",
       "    t                float64 3.185\n",
       "    t2m              float64 2.51</pre><div class='xr-wrap' style='display:none'><div class='xr-header'><div class='xr-obj-type'>xarray.Dataset</div></div><ul class='xr-sections'><li class='xr-section-item'><input id='section-da1faa7f-d10f-4d7d-a07d-50cc4b2d225b' class='xr-section-summary-in' type='checkbox' disabled ><label for='section-da1faa7f-d10f-4d7d-a07d-50cc4b2d225b' class='xr-section-summary'  title='Expand/collapse section'>Dimensions:</label><div class='xr-section-inline-details'></div><div class='xr-section-details'></div></li><li class='xr-section-item'><input id='section-6622ee82-9559-4fd0-a2b8-f3ff24344563' class='xr-section-summary-in' type='checkbox'  checked><label for='section-6622ee82-9559-4fd0-a2b8-f3ff24344563' class='xr-section-summary' >Coordinates: <span>(1)</span></label><div class='xr-section-inline-details'></div><div class='xr-section-details'><ul class='xr-var-list'><li class='xr-var-item'><div class='xr-var-name'><span>ensemble_member</span></div><div class='xr-var-dims'>()</div><div class='xr-var-dtype'>int64</div><div class='xr-var-preview xr-preview'>0</div><input id='attrs-6110da73-4c91-40d4-acc1-e54ecd0e621b' class='xr-var-attrs-in' type='checkbox' disabled><label for='attrs-6110da73-4c91-40d4-acc1-e54ecd0e621b' title='Show/Hide attributes'><svg class='icon xr-icon-file-text2'><use xlink:href='#icon-file-text2'></use></svg></label><input id='data-c45bfd45-3b6d-4b09-bba1-adc6af6dfef1' class='xr-var-data-in' type='checkbox'><label for='data-c45bfd45-3b6d-4b09-bba1-adc6af6dfef1' title='Show/Hide data repr'><svg class='icon xr-icon-database'><use xlink:href='#icon-database'></use></svg></label><div class='xr-var-attrs'><dl class='xr-attrs'></dl></div><div class='xr-var-data'><pre>array(0)</pre></div></li></ul></div></li><li class='xr-section-item'><input id='section-56bffe14-3d15-49b2-b042-ab67cf00eb02' class='xr-section-summary-in' type='checkbox'  checked><label for='section-56bffe14-3d15-49b2-b042-ab67cf00eb02' class='xr-section-summary' >Data variables: <span>(3)</span></label><div class='xr-section-inline-details'></div><div class='xr-section-details'><ul class='xr-var-list'><li class='xr-var-item'><div class='xr-var-name'><span>z</span></div><div class='xr-var-dims'>()</div><div class='xr-var-dtype'>float64</div><div class='xr-var-preview xr-preview'>638.2</div><input id='attrs-ab419420-fb8b-482b-9eb3-3ba943e414e5' class='xr-var-attrs-in' type='checkbox' disabled><label for='attrs-ab419420-fb8b-482b-9eb3-3ba943e414e5' title='Show/Hide attributes'><svg class='icon xr-icon-file-text2'><use xlink:href='#icon-file-text2'></use></svg></label><input id='data-ae116eeb-6d0e-4a88-a169-4b4992524916' class='xr-var-data-in' type='checkbox'><label for='data-ae116eeb-6d0e-4a88-a169-4b4992524916' title='Show/Hide data repr'><svg class='icon xr-icon-database'><use xlink:href='#icon-database'></use></svg></label><div class='xr-var-attrs'><dl class='xr-attrs'></dl></div><div class='xr-var-data'><pre>array(638.23562441)</pre></div></li><li class='xr-var-item'><div class='xr-var-name'><span>t</span></div><div class='xr-var-dims'>()</div><div class='xr-var-dtype'>float64</div><div class='xr-var-preview xr-preview'>3.185</div><input id='attrs-937c040f-ca19-4efe-a5c8-e7e7c8dda622' class='xr-var-attrs-in' type='checkbox' disabled><label for='attrs-937c040f-ca19-4efe-a5c8-e7e7c8dda622' title='Show/Hide attributes'><svg class='icon xr-icon-file-text2'><use xlink:href='#icon-file-text2'></use></svg></label><input id='data-9c7dc715-989c-442b-ad8f-fae281ecaa97' class='xr-var-data-in' type='checkbox'><label for='data-9c7dc715-989c-442b-ad8f-fae281ecaa97' title='Show/Hide data repr'><svg class='icon xr-icon-database'><use xlink:href='#icon-database'></use></svg></label><div class='xr-var-attrs'><dl class='xr-attrs'></dl></div><div class='xr-var-data'><pre>array(3.18456019)</pre></div></li><li class='xr-var-item'><div class='xr-var-name'><span>t2m</span></div><div class='xr-var-dims'>()</div><div class='xr-var-dtype'>float64</div><div class='xr-var-preview xr-preview'>2.51</div><input id='attrs-e70a8cda-c8d0-47de-a174-99277cb026d5' class='xr-var-attrs-in' type='checkbox' disabled><label for='attrs-e70a8cda-c8d0-47de-a174-99277cb026d5' title='Show/Hide attributes'><svg class='icon xr-icon-file-text2'><use xlink:href='#icon-file-text2'></use></svg></label><input id='data-a98d796d-0685-467b-8c28-2af06a35f038' class='xr-var-data-in' type='checkbox'><label for='data-a98d796d-0685-467b-8c28-2af06a35f038' title='Show/Hide data repr'><svg class='icon xr-icon-database'><use xlink:href='#icon-database'></use></svg></label><div class='xr-var-attrs'><dl class='xr-attrs'></dl></div><div class='xr-var-data'><pre>array(2.51035527)</pre></div></li></ul></div></li><li class='xr-section-item'><input id='section-1db65376-a63c-4f35-883d-c25bcd851a50' class='xr-section-summary-in' type='checkbox' disabled ><label for='section-1db65376-a63c-4f35-883d-c25bcd851a50' class='xr-section-summary'  title='Expand/collapse section'>Indexes: <span>(0)</span></label><div class='xr-section-inline-details'></div><div class='xr-section-details'><ul class='xr-var-list'></ul></div></li><li class='xr-section-item'><input id='section-c2353abf-159d-48d9-91b4-52399d484396' class='xr-section-summary-in' type='checkbox' disabled ><label for='section-c2353abf-159d-48d9-91b4-52399d484396' class='xr-section-summary'  title='Expand/collapse section'>Attributes: <span>(0)</span></label><div class='xr-section-inline-details'></div><div class='xr-section-details'><dl class='xr-attrs'></dl></div></li></ul></div></div>"
      ],
      "text/plain": [
       "<xarray.Dataset>\n",
       "Dimensions:          ()\n",
       "Coordinates:\n",
       "    ensemble_member  int64 0\n",
       "Data variables:\n",
       "    z                float64 638.2\n",
       "    t                float64 3.185\n",
       "    t2m              float64 2.51"
      ]
     },
     "execution_count": 7,
     "metadata": {},
     "output_type": "execute_result"
    }
   ],
   "source": [
    "rmse"
   ]
  },
  {
   "cell_type": "code",
   "execution_count": 2,
   "metadata": {},
   "outputs": [],
   "source": [
    "ds_id = \"590781\"\n",
    "model_id = \"495CD7\""
   ]
  },
  {
   "cell_type": "code",
   "execution_count": 3,
   "metadata": {},
   "outputs": [],
   "source": [
    "predictions_experiments = xr.load_dataset(f\"/data/compoundx/WeatherDiff/model_output/{ds_id}/{model_id}_gen.nc\")\n",
    "targets_experiments = xr.load_dataset(f\"/data/compoundx/WeatherDiff/model_output/{ds_id}/{model_id}_target.nc\")"
   ]
  },
  {
   "cell_type": "code",
   "execution_count": 4,
   "metadata": {},
   "outputs": [
    {
     "name": "stdout",
     "output_type": "stream",
     "text": [
      "495CD7, RMSE_z is 1689.5\n"
     ]
    }
   ],
   "source": [
    "rmse = compute_weighted_rmse(predictions_experiments.isel({\"ensemble_member\":0}), targets_experiments.isel({\"ensemble_member\":0}))\n",
    "print(\"{}, RMSE_z is {:.1f}\".format(model_id, rmse.z_500.values))"
   ]
  }
 ],
 "metadata": {
  "kernelspec": {
   "display_name": "TORCH311",
   "language": "python",
   "name": "python3"
  },
  "language_info": {
   "codemirror_mode": {
    "name": "ipython",
    "version": 3
   },
   "file_extension": ".py",
   "mimetype": "text/x-python",
   "name": "python",
   "nbconvert_exporter": "python",
   "pygments_lexer": "ipython3",
   "version": "3.11.4"
  },
  "orig_nbformat": 4
 },
 "nbformat": 4,
 "nbformat_minor": 2
}
