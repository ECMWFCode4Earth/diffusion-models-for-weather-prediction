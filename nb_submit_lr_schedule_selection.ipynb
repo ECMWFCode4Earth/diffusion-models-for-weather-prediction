{
 "cells": [
  {
   "cell_type": "code",
   "execution_count": 2,
   "metadata": {},
   "outputs": [],
   "source": [
    "import os"
   ]
  },
  {
   "cell_type": "code",
   "execution_count": 4,
   "metadata": {},
   "outputs": [],
   "source": [
    "names = \"ReduceLROnPlateau\", \"StepLR\", \"CosineAnnealingLR\", \"CosineAnnealingWarmRestarts\", \"CosineAnnealingWarmupRestarts\"\n",
    "ds_id = \"ACBB5F\""
   ]
  },
  {
   "cell_type": "code",
   "execution_count": null,
   "metadata": {},
   "outputs": [],
   "source": [
    "for name in names:\n",
    "    os.system(\"sbatch submit_script_5_lr_schedule_selection.sh -d {} -l {}\".format(name, ds_id))"
   ]
  }
 ],
 "metadata": {
  "kernelspec": {
   "display_name": "TORCH311",
   "language": "python",
   "name": "python3"
  },
  "language_info": {
   "codemirror_mode": {
    "name": "ipython",
    "version": 3
   },
   "file_extension": ".py",
   "mimetype": "text/x-python",
   "name": "python",
   "nbconvert_exporter": "python",
   "pygments_lexer": "ipython3",
   "version": "3.11.3"
  },
  "orig_nbformat": 4
 },
 "nbformat": 4,
 "nbformat_minor": 2
}
