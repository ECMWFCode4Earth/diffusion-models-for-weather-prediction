{
 "cells": [
  {
   "cell_type": "code",
   "execution_count": 4,
   "metadata": {},
   "outputs": [],
   "source": [
    "import os"
   ]
  },
  {
   "cell_type": "code",
   "execution_count": 5,
   "metadata": {},
   "outputs": [],
   "source": [
    "names = [\"Constant\", \"ReduceLROnPlateau\", \"StepLR\", \"CosineAnnealingLR\", \"CosineAnnealingWarmRestarts\", \"CosineAnnealingWarmupRestarts\"]\n",
    "ds_id = \"A7B509\""
   ]
  },
  {
   "cell_type": "code",
   "execution_count": 6,
   "metadata": {},
   "outputs": [
    {
     "name": "stdout",
     "output_type": "stream",
     "text": [
      "Submitted batch job 41133426\n",
      "Submitted batch job 41133427\n",
      "Submitted batch job 41133428\n",
      "Submitted batch job 41133429\n",
      "Submitted batch job 41133430\n",
      "Submitted batch job 41133431\n"
     ]
    }
   ],
   "source": [
    "for name in names:\n",
    "    os.system(\"sbatch submit_script_5_lr_schedule_selection.sh -d {} -l {}\".format(ds_id, name))"
   ]
  }
 ],
 "metadata": {
  "kernelspec": {
   "display_name": "TORCH311",
   "language": "python",
   "name": "python3"
  },
  "language_info": {
   "codemirror_mode": {
    "name": "ipython",
    "version": 3
   },
   "file_extension": ".py",
   "mimetype": "text/x-python",
   "name": "python",
   "nbconvert_exporter": "python",
   "pygments_lexer": "ipython3",
   "version": "3.11.3"
  },
  "orig_nbformat": 4
 },
 "nbformat": 4,
 "nbformat_minor": 2
}
