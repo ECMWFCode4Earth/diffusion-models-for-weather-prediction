{
 "cells": [
  {
   "cell_type": "code",
   "execution_count": 1,
   "metadata": {},
   "outputs": [
    {
     "name": "stderr",
     "output_type": "stream",
     "text": [
      "/home/wider/.conda/envs/WD_model/lib/python3.11/site-packages/tqdm/auto.py:21: TqdmWarning: IProgress not found. Please update jupyter and ipywidgets. See https://ipywidgets.readthedocs.io/en/stable/user_install.html\n",
      "  from .autonotebook import tqdm as notebook_tqdm\n"
     ]
    }
   ],
   "source": [
    "import argparse\n",
    "import os\n",
    "from pathlib import Path\n",
    "\n",
    "import hydra\n",
    "from omegaconf import DictConfig, OmegaConf\n",
    "\n",
    "import torch\n",
    "from torch.utils.data import DataLoader\n",
    "\n",
    "from dm_zoo.dff.PixelDiffusion import (\n",
    "    PixelDiffusionConditional,\n",
    ")\n",
    "from WD.datasets import Conditional_Dataset_Zarr_Iterable\n",
    "from WD.utils import create_dir\n",
    "from WD.io import create_xr_output_variables\n",
    "# from WD.io import load_config, write_config  # noqa F401\n",
    "import pytorch_lightning as pl\n"
   ]
  },
  {
   "cell_type": "code",
   "execution_count": 2,
   "metadata": {},
   "outputs": [
    {
     "name": "stdout",
     "output_type": "stream",
     "text": [
      "Is Time embed used ?  True\n",
      "Cyclical Padding ?  False\n"
     ]
    }
   ],
   "source": [
    "model_name = \"2023-09-01_14-19-31\"  # we have to pass this to the bash file every time! (should contain a string of the date the run was started).\n",
    "nens = 1  # we have to pass this to the bash file every time!\n",
    "\n",
    "ds_config = OmegaConf.load(f\"/data/compoundx/WeatherDiff/hydra_configs/rasp_thuerey_iterative/.hydra/config.yaml\")\n",
    "ml_config = OmegaConf.load(f\"/data/compoundx/WeatherDiff/hydra_configs/training/rasp_thuerey_iterative/conditional_diffusion_6h_iterative/{model_name}/.hydra/config.yaml\")\n",
    "\n",
    "\n",
    "model_load_dir = Path(f\"/data/compoundx/WeatherDiff/saved_model/rasp_thuerey_iterative/conditional_diffusion_6h_iterative/{model_name}/lightning_logs/version_0/checkpoints/\")\n",
    "\n",
    "test_ds_path = f\"/data/compoundx/WeatherDiff/model_input/rasp_thuerey_iterative_test.zarr\"\n",
    "\n",
    "\n",
    "ds = Conditional_Dataset_Zarr_Iterable(test_ds_path, ds_config.template, shuffle_chunks=False, \n",
    "                                            shuffle_in_chunks=False)\n",
    "\n",
    "model_ckpt = [x for x in model_load_dir.iterdir()][0]\n",
    "\n",
    "conditioning_channels = ds.array_inputs.shape[1] * len(ds.conditioning_timesteps) + ds.array_constants.shape[0]\n",
    "generated_channels = ds.array_targets.shape[1]\n",
    "\n",
    "restored_model = PixelDiffusionConditional.load_from_checkpoint(\n",
    "    model_ckpt,\n",
    "    config=ml_config.experiment.pixel_diffusion,\n",
    "    conditioning_channels=conditioning_channels,\n",
    "    generated_channels=generated_channels,\n",
    "    loss_fn=None,\n",
    "    sampler=None,\n",
    ")\n"
   ]
  },
  {
   "cell_type": "code",
   "execution_count": 3,
   "metadata": {},
   "outputs": [
    {
     "data": {
      "text/plain": [
       "device(type='cuda', index=0)"
      ]
     },
     "execution_count": 3,
     "metadata": {},
     "output_type": "execute_result"
    }
   ],
   "source": [
    "restored_model.device"
   ]
  },
  {
   "cell_type": "code",
   "execution_count": 4,
   "metadata": {},
   "outputs": [],
   "source": [
    "n_steps = 2  # hard-code for now. Relax later."
   ]
  },
  {
   "cell_type": "code",
   "execution_count": 3,
   "metadata": {},
   "outputs": [
    {
     "name": "stderr",
     "output_type": "stream",
     "text": [
      "/home/wider/.conda/envs/WD_model/lib/python3.11/site-packages/lightning_fabric/plugins/environments/slurm.py:165: PossibleUserWarning: The `srun` command is available on your system but is not used. HINT: If your intention is to run Lightning on SLURM, prepend your python command with `srun` like so: srun python /home/wider/.conda/envs/WD_model/lib/python3.11/site ...\n",
      "  rank_zero_warn(\n",
      "GPU available: True (cuda), used: True\n",
      "TPU available: False, using: 0 TPU cores\n",
      "IPU available: False, using: 0 IPUs\n",
      "HPU available: False, using: 0 HPUs\n"
     ]
    },
    {
     "name": "stdout",
     "output_type": "stream",
     "text": [
      "0\n",
      "step 0\n"
     ]
    },
    {
     "ename": "KeyboardInterrupt",
     "evalue": "",
     "output_type": "error",
     "traceback": [
      "\u001b[0;31m---------------------------------------------------------------------------\u001b[0m",
      "\u001b[0;31mKeyboardInterrupt\u001b[0m                         Traceback (most recent call last)",
      "Cell \u001b[0;32mIn[3], line 19\u001b[0m\n\u001b[1;32m     17\u001b[0m restored_model\u001b[39m.\u001b[39meval()\n\u001b[1;32m     18\u001b[0m \u001b[39mwith\u001b[39;00m torch\u001b[39m.\u001b[39mno_grad():  \n\u001b[0;32m---> 19\u001b[0m     out \u001b[39m=\u001b[39m restored_model\u001b[39m.\u001b[39mforward(\u001b[39minput\u001b[39m)  \u001b[39m# is this a list of tensors or a tensor?\u001b[39;00m\n\u001b[1;32m     20\u001b[0m     trajectories[:,step,\u001b[39m.\u001b[39m\u001b[39m.\u001b[39m\u001b[39m.\u001b[39m] \u001b[39m=\u001b[39m out\n\u001b[1;32m     21\u001b[0m     \u001b[39minput\u001b[39m \u001b[39m=\u001b[39m [torch\u001b[39m.\u001b[39mconcatenate([out, constants\u001b[39m.\u001b[39munsqueeze(\u001b[39m0\u001b[39m)\u001b[39m.\u001b[39mexpand(out\u001b[39m.\u001b[39msize(\u001b[39m0\u001b[39m), \u001b[39m*\u001b[39mconstants\u001b[39m.\u001b[39msize())], dim\u001b[39m=\u001b[39m\u001b[39m1\u001b[39m), \u001b[39mNone\u001b[39;00m]  \u001b[39m# we don't need the true target here\u001b[39;00m\n",
      "File \u001b[0;32m~/.conda/envs/WD_model/lib/python3.11/site-packages/torch/utils/_contextlib.py:115\u001b[0m, in \u001b[0;36mcontext_decorator.<locals>.decorate_context\u001b[0;34m(*args, **kwargs)\u001b[0m\n\u001b[1;32m    112\u001b[0m \u001b[39m@functools\u001b[39m\u001b[39m.\u001b[39mwraps(func)\n\u001b[1;32m    113\u001b[0m \u001b[39mdef\u001b[39;00m \u001b[39mdecorate_context\u001b[39m(\u001b[39m*\u001b[39margs, \u001b[39m*\u001b[39m\u001b[39m*\u001b[39mkwargs):\n\u001b[1;32m    114\u001b[0m     \u001b[39mwith\u001b[39;00m ctx_factory():\n\u001b[0;32m--> 115\u001b[0m         \u001b[39mreturn\u001b[39;00m func(\u001b[39m*\u001b[39margs, \u001b[39m*\u001b[39m\u001b[39m*\u001b[39mkwargs)\n",
      "File \u001b[0;32m/gpfs1/schlecker/home/wider/Projects/diffusion-models-for-weather-prediction/dm_zoo/dff/PixelDiffusion.py:101\u001b[0m, in \u001b[0;36mPixelDiffusionConditional.forward\u001b[0;34m(self, batch, *args, **kwargs)\u001b[0m\n\u001b[1;32m     98\u001b[0m \u001b[39m@torch\u001b[39m\u001b[39m.\u001b[39mno_grad()\n\u001b[1;32m     99\u001b[0m \u001b[39mdef\u001b[39;00m \u001b[39mforward\u001b[39m(\u001b[39mself\u001b[39m, batch, \u001b[39m*\u001b[39margs, \u001b[39m*\u001b[39m\u001b[39m*\u001b[39mkwargs):\n\u001b[1;32m    100\u001b[0m     \u001b[39minput\u001b[39m, _ \u001b[39m=\u001b[39m batch\n\u001b[0;32m--> 101\u001b[0m     \u001b[39mreturn\u001b[39;00m \u001b[39mself\u001b[39m\u001b[39m.\u001b[39moutput_T(\u001b[39mself\u001b[39m\u001b[39m.\u001b[39mmodel(\u001b[39mself\u001b[39m\u001b[39m.\u001b[39minput_T(\u001b[39minput\u001b[39m), \u001b[39m*\u001b[39margs, \u001b[39m*\u001b[39m\u001b[39m*\u001b[39mkwargs))\n",
      "File \u001b[0;32m~/.conda/envs/WD_model/lib/python3.11/site-packages/torch/nn/modules/module.py:1501\u001b[0m, in \u001b[0;36mModule._call_impl\u001b[0;34m(self, *args, **kwargs)\u001b[0m\n\u001b[1;32m   1496\u001b[0m \u001b[39m# If we don't have any hooks, we want to skip the rest of the logic in\u001b[39;00m\n\u001b[1;32m   1497\u001b[0m \u001b[39m# this function, and just call forward.\u001b[39;00m\n\u001b[1;32m   1498\u001b[0m \u001b[39mif\u001b[39;00m \u001b[39mnot\u001b[39;00m (\u001b[39mself\u001b[39m\u001b[39m.\u001b[39m_backward_hooks \u001b[39mor\u001b[39;00m \u001b[39mself\u001b[39m\u001b[39m.\u001b[39m_backward_pre_hooks \u001b[39mor\u001b[39;00m \u001b[39mself\u001b[39m\u001b[39m.\u001b[39m_forward_hooks \u001b[39mor\u001b[39;00m \u001b[39mself\u001b[39m\u001b[39m.\u001b[39m_forward_pre_hooks\n\u001b[1;32m   1499\u001b[0m         \u001b[39mor\u001b[39;00m _global_backward_pre_hooks \u001b[39mor\u001b[39;00m _global_backward_hooks\n\u001b[1;32m   1500\u001b[0m         \u001b[39mor\u001b[39;00m _global_forward_hooks \u001b[39mor\u001b[39;00m _global_forward_pre_hooks):\n\u001b[0;32m-> 1501\u001b[0m     \u001b[39mreturn\u001b[39;00m forward_call(\u001b[39m*\u001b[39margs, \u001b[39m*\u001b[39m\u001b[39m*\u001b[39mkwargs)\n\u001b[1;32m   1502\u001b[0m \u001b[39m# Do not call functions when jit is used\u001b[39;00m\n\u001b[1;32m   1503\u001b[0m full_backward_hooks, non_full_backward_hooks \u001b[39m=\u001b[39m [], []\n",
      "File \u001b[0;32m~/.conda/envs/WD_model/lib/python3.11/site-packages/torch/utils/_contextlib.py:115\u001b[0m, in \u001b[0;36mcontext_decorator.<locals>.decorate_context\u001b[0;34m(*args, **kwargs)\u001b[0m\n\u001b[1;32m    112\u001b[0m \u001b[39m@functools\u001b[39m\u001b[39m.\u001b[39mwraps(func)\n\u001b[1;32m    113\u001b[0m \u001b[39mdef\u001b[39;00m \u001b[39mdecorate_context\u001b[39m(\u001b[39m*\u001b[39margs, \u001b[39m*\u001b[39m\u001b[39m*\u001b[39mkwargs):\n\u001b[1;32m    114\u001b[0m     \u001b[39mwith\u001b[39;00m ctx_factory():\n\u001b[0;32m--> 115\u001b[0m         \u001b[39mreturn\u001b[39;00m func(\u001b[39m*\u001b[39margs, \u001b[39m*\u001b[39m\u001b[39m*\u001b[39mkwargs)\n",
      "File \u001b[0;32m/gpfs1/schlecker/home/wider/Projects/diffusion-models-for-weather-prediction/dm_zoo/dff/DenoisingDiffusionProcess/DenoisingDiffusionProcess.py:112\u001b[0m, in \u001b[0;36mDenoisingDiffusionConditionalProcess.forward\u001b[0;34m(self, condition, sampler, verbose)\u001b[0m\n\u001b[1;32m    110\u001b[0m     model_input \u001b[39m=\u001b[39m torch\u001b[39m.\u001b[39mcat([x_t, condition], \u001b[39m1\u001b[39m)\u001b[39m.\u001b[39mto(device)\n\u001b[1;32m    111\u001b[0m     z_t \u001b[39m=\u001b[39m \u001b[39mself\u001b[39m\u001b[39m.\u001b[39mmodel(model_input, t)  \u001b[39m# prediction of noise\u001b[39;00m\n\u001b[0;32m--> 112\u001b[0m     x_t \u001b[39m=\u001b[39m \u001b[39mself\u001b[39m\u001b[39m.\u001b[39msampler(x_t, t, z_t)  \u001b[39m# prediction of next state\u001b[39;00m\n\u001b[1;32m    114\u001b[0m \u001b[39mreturn\u001b[39;00m x_t\n",
      "File \u001b[0;32m~/.conda/envs/WD_model/lib/python3.11/site-packages/torch/nn/modules/module.py:1501\u001b[0m, in \u001b[0;36mModule._call_impl\u001b[0;34m(self, *args, **kwargs)\u001b[0m\n\u001b[1;32m   1496\u001b[0m \u001b[39m# If we don't have any hooks, we want to skip the rest of the logic in\u001b[39;00m\n\u001b[1;32m   1497\u001b[0m \u001b[39m# this function, and just call forward.\u001b[39;00m\n\u001b[1;32m   1498\u001b[0m \u001b[39mif\u001b[39;00m \u001b[39mnot\u001b[39;00m (\u001b[39mself\u001b[39m\u001b[39m.\u001b[39m_backward_hooks \u001b[39mor\u001b[39;00m \u001b[39mself\u001b[39m\u001b[39m.\u001b[39m_backward_pre_hooks \u001b[39mor\u001b[39;00m \u001b[39mself\u001b[39m\u001b[39m.\u001b[39m_forward_hooks \u001b[39mor\u001b[39;00m \u001b[39mself\u001b[39m\u001b[39m.\u001b[39m_forward_pre_hooks\n\u001b[1;32m   1499\u001b[0m         \u001b[39mor\u001b[39;00m _global_backward_pre_hooks \u001b[39mor\u001b[39;00m _global_backward_hooks\n\u001b[1;32m   1500\u001b[0m         \u001b[39mor\u001b[39;00m _global_forward_hooks \u001b[39mor\u001b[39;00m _global_forward_pre_hooks):\n\u001b[0;32m-> 1501\u001b[0m     \u001b[39mreturn\u001b[39;00m forward_call(\u001b[39m*\u001b[39margs, \u001b[39m*\u001b[39m\u001b[39m*\u001b[39mkwargs)\n\u001b[1;32m   1502\u001b[0m \u001b[39m# Do not call functions when jit is used\u001b[39;00m\n\u001b[1;32m   1503\u001b[0m full_backward_hooks, non_full_backward_hooks \u001b[39m=\u001b[39m [], []\n",
      "File \u001b[0;32m~/.conda/envs/WD_model/lib/python3.11/site-packages/torch/utils/_contextlib.py:115\u001b[0m, in \u001b[0;36mcontext_decorator.<locals>.decorate_context\u001b[0;34m(*args, **kwargs)\u001b[0m\n\u001b[1;32m    112\u001b[0m \u001b[39m@functools\u001b[39m\u001b[39m.\u001b[39mwraps(func)\n\u001b[1;32m    113\u001b[0m \u001b[39mdef\u001b[39;00m \u001b[39mdecorate_context\u001b[39m(\u001b[39m*\u001b[39margs, \u001b[39m*\u001b[39m\u001b[39m*\u001b[39mkwargs):\n\u001b[1;32m    114\u001b[0m     \u001b[39mwith\u001b[39;00m ctx_factory():\n\u001b[0;32m--> 115\u001b[0m         \u001b[39mreturn\u001b[39;00m func(\u001b[39m*\u001b[39margs, \u001b[39m*\u001b[39m\u001b[39m*\u001b[39mkwargs)\n",
      "File \u001b[0;32m/gpfs1/schlecker/home/wider/Projects/diffusion-models-for-weather-prediction/dm_zoo/dff/DenoisingDiffusionProcess/samplers/DDPM.py:39\u001b[0m, in \u001b[0;36mDDPM_Sampler.forward\u001b[0;34m(self, *args, **kwargs)\u001b[0m\n\u001b[1;32m     37\u001b[0m \u001b[39m@torch\u001b[39m\u001b[39m.\u001b[39mno_grad()\n\u001b[1;32m     38\u001b[0m \u001b[39mdef\u001b[39;00m \u001b[39mforward\u001b[39m(\u001b[39mself\u001b[39m, \u001b[39m*\u001b[39margs, \u001b[39m*\u001b[39m\u001b[39m*\u001b[39mkwargs):\n\u001b[0;32m---> 39\u001b[0m     \u001b[39mreturn\u001b[39;00m \u001b[39mself\u001b[39m\u001b[39m.\u001b[39mstep(\u001b[39m*\u001b[39margs, \u001b[39m*\u001b[39m\u001b[39m*\u001b[39mkwargs)\n",
      "File \u001b[0;32m~/.conda/envs/WD_model/lib/python3.11/site-packages/torch/utils/_contextlib.py:115\u001b[0m, in \u001b[0;36mcontext_decorator.<locals>.decorate_context\u001b[0;34m(*args, **kwargs)\u001b[0m\n\u001b[1;32m    112\u001b[0m \u001b[39m@functools\u001b[39m\u001b[39m.\u001b[39mwraps(func)\n\u001b[1;32m    113\u001b[0m \u001b[39mdef\u001b[39;00m \u001b[39mdecorate_context\u001b[39m(\u001b[39m*\u001b[39margs, \u001b[39m*\u001b[39m\u001b[39m*\u001b[39mkwargs):\n\u001b[1;32m    114\u001b[0m     \u001b[39mwith\u001b[39;00m ctx_factory():\n\u001b[0;32m--> 115\u001b[0m         \u001b[39mreturn\u001b[39;00m func(\u001b[39m*\u001b[39margs, \u001b[39m*\u001b[39m\u001b[39m*\u001b[39mkwargs)\n",
      "File \u001b[0;32m/gpfs1/schlecker/home/wider/Projects/diffusion-models-for-weather-prediction/dm_zoo/dff/DenoisingDiffusionProcess/samplers/DDPM.py:49\u001b[0m, in \u001b[0;36mDDPM_Sampler.step\u001b[0;34m(self, x_t, t, z_t)\u001b[0m\n\u001b[1;32m     46\u001b[0m \u001b[39massert\u001b[39;00m (t \u001b[39m<\u001b[39m \u001b[39mself\u001b[39m\u001b[39m.\u001b[39mnum_timesteps)\u001b[39m.\u001b[39mall()\n\u001b[1;32m     48\u001b[0m \u001b[39m# 2. Approximate Distribution of Previous Sample in the chain\u001b[39;00m\n\u001b[0;32m---> 49\u001b[0m mean_pred, std_pred \u001b[39m=\u001b[39m \u001b[39mself\u001b[39m\u001b[39m.\u001b[39mposterior_params(x_t, t, z_t)\n\u001b[1;32m     51\u001b[0m \u001b[39m# 3. Sample from the distribution\u001b[39;00m\n\u001b[1;32m     52\u001b[0m z \u001b[39m=\u001b[39m torch\u001b[39m.\u001b[39mrandn_like(x_t) \u001b[39mif\u001b[39;00m \u001b[39many\u001b[39m(t \u001b[39m>\u001b[39m \u001b[39m0\u001b[39m) \u001b[39melse\u001b[39;00m torch\u001b[39m.\u001b[39mzeros_like(x_t)\n",
      "File \u001b[0;32m/gpfs1/schlecker/home/wider/Projects/diffusion-models-for-weather-prediction/dm_zoo/dff/DenoisingDiffusionProcess/samplers/DDPM.py:55\u001b[0m, in \u001b[0;36mDDPM_Sampler.posterior_params\u001b[0;34m(self, x_t, t, noise_pred)\u001b[0m\n\u001b[1;32m     52\u001b[0m     z \u001b[39m=\u001b[39m torch\u001b[39m.\u001b[39mrandn_like(x_t) \u001b[39mif\u001b[39;00m \u001b[39many\u001b[39m(t \u001b[39m>\u001b[39m \u001b[39m0\u001b[39m) \u001b[39melse\u001b[39;00m torch\u001b[39m.\u001b[39mzeros_like(x_t)\n\u001b[1;32m     53\u001b[0m     \u001b[39mreturn\u001b[39;00m mean_pred \u001b[39m+\u001b[39m std_pred \u001b[39m*\u001b[39m z\n\u001b[0;32m---> 55\u001b[0m \u001b[39mdef\u001b[39;00m \u001b[39mposterior_params\u001b[39m(\u001b[39mself\u001b[39m, x_t, t, noise_pred):\n\u001b[1;32m     56\u001b[0m     \u001b[39massert\u001b[39;00m (t \u001b[39m<\u001b[39m \u001b[39mself\u001b[39m\u001b[39m.\u001b[39mnum_timesteps)\u001b[39m.\u001b[39mall()\n\u001b[1;32m     58\u001b[0m     beta_t \u001b[39m=\u001b[39m \u001b[39mself\u001b[39m\u001b[39m.\u001b[39mbetas[t]\u001b[39m.\u001b[39mview(x_t\u001b[39m.\u001b[39mshape[\u001b[39m0\u001b[39m], \u001b[39m1\u001b[39m, \u001b[39m1\u001b[39m, \u001b[39m1\u001b[39m)\n",
      "\u001b[0;31mKeyboardInterrupt\u001b[0m: "
     ]
    }
   ],
   "source": [
    "dl = DataLoader(ds, batch_size=60)\n",
    "trainer = pl.Trainer()\n",
    "\n",
    "n_steps = 2  # hard-code for now. Relax later.\n",
    "\n",
    "constants = torch.tensor(ds.array_constants[:], dtype=torch.float).to(restored_model.device)\n",
    "\n",
    "res = []\n",
    "for i in range(nens):  # loop over ensemble members\n",
    "    ts = []\n",
    "    for i, b in enumerate(dl):  # loop over batches in test set\n",
    "        print(i)\n",
    "        input = b\n",
    "        trajectories = torch.zeros(size=(b[1].shape[0], n_steps, *b[1].shape[1:]))\n",
    "        for step in range(n_steps):\n",
    "            print(\"step\", step)\n",
    "            restored_model.eval()\n",
    "            with torch.no_grad():  \n",
    "                out = restored_model.forward(input)  # is this a list of tensors or a tensor?\n",
    "                trajectories[:,step,...] = out\n",
    "                input = [torch.concatenate([out, constants.unsqueeze(0).expand(out.size(0), *constants.size())], dim=1), None]  # we don't need the true target here\n",
    "        ts.append(trajectories)\n",
    "        if i == 4:\n",
    "            break\n",
    "    res.append(torch.cat(ts, dim=0))\n",
    "res = torch.stack(res, dim=0)"
   ]
  },
  {
   "cell_type": "code",
   "execution_count": 6,
   "metadata": {},
   "outputs": [],
   "source": [
    "targets = torch.tensor(ds.data.targets.data[ds.start+ds.lead_time:ds.stop+ds.lead_time])\n",
    "l = len(targets)\n",
    "\n",
    "indices = torch.stack([torch.arange(i, i+n_steps) for i in range(l-n_steps+1)], dim=0)\n",
    "targets = targets[indices,:,:,:].unsqueeze(dim=0)\n",
    "\n",
    "targets = torch.cat([targets, torch.ones((targets.shape[0], n_steps-1, *targets.shape[2:]))*torch.inf], dim=1)"
   ]
  },
  {
   "cell_type": "code",
   "execution_count": 4,
   "metadata": {},
   "outputs": [],
   "source": [
    "targets = torch.tensor(ds.data.targets.data[ds.start+ds.lead_time:ds.stop+ds.lead_time])\n",
    "l = len(targets)"
   ]
  },
  {
   "cell_type": "code",
   "execution_count": null,
   "metadata": {},
   "outputs": [],
   "source": [
    "from omegaconf import DictConfig"
   ]
  }
 ],
 "metadata": {
  "kernelspec": {
   "display_name": "WD_model",
   "language": "python",
   "name": "python3"
  },
  "language_info": {
   "codemirror_mode": {
    "name": "ipython",
    "version": 3
   },
   "file_extension": ".py",
   "mimetype": "text/x-python",
   "name": "python",
   "nbconvert_exporter": "python",
   "pygments_lexer": "ipython3",
   "version": "3.11.4"
  },
  "orig_nbformat": 4
 },
 "nbformat": 4,
 "nbformat_minor": 2
}
