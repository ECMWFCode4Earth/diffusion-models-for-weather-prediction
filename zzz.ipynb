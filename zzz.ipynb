{
 "cells": [
  {
   "cell_type": "code",
   "execution_count": 43,
   "metadata": {},
   "outputs": [],
   "source": [
    "import argparse\n",
    "import os\n",
    "from pathlib import Path\n",
    "\n",
    "import hydra\n",
    "from omegaconf import DictConfig, OmegaConf\n",
    "\n",
    "import torch\n",
    "from torch.utils.data import DataLoader\n",
    "\n",
    "from dm_zoo.dff.PixelDiffusion import (\n",
    "    PixelDiffusionConditional,\n",
    ")\n",
    "from WD.datasets import Conditional_Dataset_Zarr_Iterable\n",
    "from WD.utils import create_dir\n",
    "from WD.io import create_xr_output_variables\n",
    "# from WD.io import load_config, write_config  # noqa F401\n",
    "import pytorch_lightning as pl\n"
   ]
  },
  {
   "cell_type": "code",
   "execution_count": 44,
   "metadata": {},
   "outputs": [
    {
     "name": "stdout",
     "output_type": "stream",
     "text": [
      "Is Time embed used ?  True\n",
      "Cyclical Padding ?  False\n"
     ]
    }
   ],
   "source": [
    "model_name = \"2023-09-01_14-19-31\"  # we have to pass this to the bash file every time! (should contain a string of the date the run was started).\n",
    "nens = 1  # we have to pass this to the bash file every time!\n",
    "\n",
    "ds_config = OmegaConf.load(f\"/data/compoundx/WeatherDiff/hydra_configs/rasp_thuerey_iterative/.hydra/config.yaml\")\n",
    "ml_config = OmegaConf.load(f\"/data/compoundx/WeatherDiff/hydra_configs/training/rasp_thuerey_iterative/conditional_diffusion_6h_iterative/{model_name}/.hydra/config.yaml\")\n",
    "\n",
    "\n",
    "model_load_dir = Path(f\"/data/compoundx/WeatherDiff/saved_model/rasp_thuerey_iterative/conditional_diffusion_6h_iterative/{model_name}/lightning_logs/version_0/checkpoints/\")\n",
    "\n",
    "test_ds_path = f\"/data/compoundx/WeatherDiff/model_input/rasp_thuerey_iterative_test.zarr\"\n",
    "\n",
    "\n",
    "ds = Conditional_Dataset_Zarr_Iterable(test_ds_path, ds_config.template, shuffle_chunks=False, \n",
    "                                            shuffle_in_chunks=False)\n",
    "\n",
    "model_ckpt = [x for x in model_load_dir.iterdir()][0]\n",
    "\n",
    "conditioning_channels = ds.array_inputs.shape[1] * len(ds.conditioning_timesteps) + ds.array_constants.shape[0]\n",
    "generated_channels = ds.array_targets.shape[1]\n",
    "\n",
    "restored_model = PixelDiffusionConditional.load_from_checkpoint(\n",
    "    model_ckpt,\n",
    "    config=ml_config.experiment.pixel_diffusion,\n",
    "    conditioning_channels=conditioning_channels,\n",
    "    generated_channels=generated_channels,\n",
    "    loss_fn=None,\n",
    "    sampler=None,\n",
    ")\n"
   ]
  },
  {
   "cell_type": "code",
   "execution_count": 45,
   "metadata": {},
   "outputs": [
    {
     "data": {
      "text/plain": [
       "device(type='cuda', index=0)"
      ]
     },
     "execution_count": 45,
     "metadata": {},
     "output_type": "execute_result"
    }
   ],
   "source": [
    "restored_model.device"
   ]
  },
  {
   "cell_type": "code",
   "execution_count": 48,
   "metadata": {},
   "outputs": [
    {
     "name": "stderr",
     "output_type": "stream",
     "text": [
      "/home/wider/.conda/envs/WD_model/lib/python3.11/site-packages/lightning_fabric/plugins/environments/slurm.py:165: PossibleUserWarning: The `srun` command is available on your system but is not used. HINT: If your intention is to run Lightning on SLURM, prepend your python command with `srun` like so: srun python /home/wider/.conda/envs/WD_model/lib/python3.11/site ...\n",
      "  rank_zero_warn(\n",
      "GPU available: True (cuda), used: True\n",
      "TPU available: False, using: 0 TPU cores\n",
      "IPU available: False, using: 0 IPUs\n",
      "HPU available: False, using: 0 HPUs\n"
     ]
    },
    {
     "name": "stdout",
     "output_type": "stream",
     "text": [
      "0\n"
     ]
    }
   ],
   "source": [
    "dl = DataLoader(ds, batch_size=3)\n",
    "trainer = pl.Trainer()\n",
    "\n",
    "n_steps = 2  # hard-code for now. Relax later.\n",
    "\n",
    "constants = torch.tensor(ds.array_constants[:], dtype=torch.float).to(restored_model.device)\n",
    "\n",
    "\n",
    "\n",
    "\n",
    "res = []\n",
    "for i in range(nens):  # loop over ensemble members\n",
    "    ts = []\n",
    "    for i, b in enumerate(dl):  # loop over batches in test set\n",
    "        print(i)\n",
    "        input = b\n",
    "        trajectories = torch.zeros(size=(b[1].shape[0], n_steps, *b[1].shape[1:]))\n",
    "        for step in range(n_steps):\n",
    "            restored_model.eval()\n",
    "            with torch.no_grad():  \n",
    "                out = restored_model.forward(input)  # is this a list of tensors or a tensor?\n",
    "                trajectories[:,step,...] = out\n",
    "                input = [torch.concatenate([out, constants.unsqueeze(0).expand(out.size(0), *constants.size())], dim=1), None]  # we don't need the true target here\n",
    "        ts.append(trajectories)\n",
    "        if i == 4:\n",
    "            break\n",
    "    res.append(torch.cat(ts, dim=0))\n",
    "res = torch.stack(out, dim=0)"
   ]
  },
  {
   "cell_type": "code",
   "execution_count": null,
   "metadata": {},
   "outputs": [
    {
     "data": {
      "text/plain": [
       "2"
      ]
     },
     "execution_count": 17,
     "metadata": {},
     "output_type": "execute_result"
    }
   ],
   "source": [
    "len(ts)"
   ]
  },
  {
   "cell_type": "code",
   "execution_count": 20,
   "metadata": {},
   "outputs": [
    {
     "data": {
      "text/plain": [
       "torch.Size([2, 3, 38, 32, 64])"
      ]
     },
     "execution_count": 20,
     "metadata": {},
     "output_type": "execute_result"
    }
   ],
   "source": [
    "ts[1].shape"
   ]
  },
  {
   "cell_type": "code",
   "execution_count": 12,
   "metadata": {},
   "outputs": [
    {
     "data": {
      "text/plain": [
       "torch.Size([2, 3, 38, 32, 64])"
      ]
     },
     "execution_count": 12,
     "metadata": {},
     "output_type": "execute_result"
    }
   ],
   "source": [
    "trajectories.shape"
   ]
  },
  {
   "cell_type": "code",
   "execution_count": 38,
   "metadata": {},
   "outputs": [],
   "source": [
    "model_name = \"2023-09-01_14-19-31\"  # we have to pass this to the bash file every time! (should contain a string of the date the run was started).\n",
    "nens = 1  # we have to pass this to the bash file every time!\n",
    "\n",
    "ds_config = OmegaConf.load(f\"/data/compoundx/WeatherDiff/hydra_configs/rasp_thuerey_geopotential/.hydra/config.yaml\")\n",
    "\n",
    "\n",
    "model_load_dir = Path(f\"/data/compoundx/WeatherDiff/saved_model/rasp_thuerey_geopotential/conditional_diffusion_6h_iterative/{model_name}/lightning_logs/version_0/checkpoints/\")\n",
    "\n",
    "\n",
    "test_ds_path = f\"/data/compoundx/WeatherDiff/model_input/rasp_thuerey_geopotential_test.zarr\"\n",
    "\n",
    "ds = Conditional_Dataset_Zarr_Iterable(test_ds_path, ds_config.template, shuffle_chunks=False, \n",
    "                                            shuffle_in_chunks=False)"
   ]
  },
  {
   "cell_type": "code",
   "execution_count": 41,
   "metadata": {},
   "outputs": [
    {
     "data": {
      "text/plain": [
       "<zarr.core.Array '/inputs/data' (2917, 38, 32, 64) float32 read-only>"
      ]
     },
     "execution_count": 41,
     "metadata": {},
     "output_type": "execute_result"
    }
   ],
   "source": [
    "ds.array_inputs"
   ]
  }
 ],
 "metadata": {
  "kernelspec": {
   "display_name": "WD_model",
   "language": "python",
   "name": "python3"
  },
  "language_info": {
   "codemirror_mode": {
    "name": "ipython",
    "version": 3
   },
   "file_extension": ".py",
   "mimetype": "text/x-python",
   "name": "python",
   "nbconvert_exporter": "python",
   "pygments_lexer": "ipython3",
   "version": "3.11.4"
  },
  "orig_nbformat": 4
 },
 "nbformat": 4,
 "nbformat_minor": 2
}
