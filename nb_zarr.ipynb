{
 "cells": [
  {
   "cell_type": "code",
   "execution_count": 10,
   "metadata": {},
   "outputs": [],
   "source": [
    "from WD.datasets import Conditional_Dataset_Zarr\n",
    "import numpy as np\n",
    "import torch\n",
    "import zarr\n",
    "import torch\n",
    "from torch.utils.data import Sampler, RandomSampler, BatchSampler, SequentialSampler\n",
    "import dask"
   ]
  },
  {
   "cell_type": "code",
   "execution_count": 19,
   "metadata": {},
   "outputs": [],
   "source": [
    "a = zarr.open(\"/data/compoundx/WeatherDiff/model_input/7E2101_test.zarr\")"
   ]
  },
  {
   "cell_type": "code",
   "execution_count": 21,
   "metadata": {},
   "outputs": [
    {
     "data": {
      "text/html": [
       "<table class=\"zarr-info\"><tbody><tr><th style=\"text-align: left\">Name</th><td style=\"text-align: left\">/inputs/data</td></tr><tr><th style=\"text-align: left\">Type</th><td style=\"text-align: left\">zarr.core.Array</td></tr><tr><th style=\"text-align: left\">Data type</th><td style=\"text-align: left\">float32</td></tr><tr><th style=\"text-align: left\">Shape</th><td style=\"text-align: left\">(2917, 1, 32, 64)</td></tr><tr><th style=\"text-align: left\">Chunk shape</th><td style=\"text-align: left\">(2917, 1, 32, 64)</td></tr><tr><th style=\"text-align: left\">Order</th><td style=\"text-align: left\">C</td></tr><tr><th style=\"text-align: left\">Read-only</th><td style=\"text-align: left\">False</td></tr><tr><th style=\"text-align: left\">Compressor</th><td style=\"text-align: left\">None</td></tr><tr><th style=\"text-align: left\">Store type</th><td style=\"text-align: left\">zarr.storage.DirectoryStore</td></tr><tr><th style=\"text-align: left\">No. bytes</th><td style=\"text-align: left\">23896064 (22.8M)</td></tr><tr><th style=\"text-align: left\">No. bytes stored</th><td style=\"text-align: left\">23896438 (22.8M)</td></tr><tr><th style=\"text-align: left\">Storage ratio</th><td style=\"text-align: left\">1.0</td></tr><tr><th style=\"text-align: left\">Chunks initialized</th><td style=\"text-align: left\">1/1</td></tr></tbody></table>"
      ],
      "text/plain": [
       "Name               : /inputs/data\n",
       "Type               : zarr.core.Array\n",
       "Data type          : float32\n",
       "Shape              : (2917, 1, 32, 64)\n",
       "Chunk shape        : (2917, 1, 32, 64)\n",
       "Order              : C\n",
       "Read-only          : False\n",
       "Compressor         : None\n",
       "Store type         : zarr.storage.DirectoryStore\n",
       "No. bytes          : 23896064 (22.8M)\n",
       "No. bytes stored   : 23896438 (22.8M)\n",
       "Storage ratio      : 1.0\n",
       "Chunks initialized : 1/1"
      ]
     },
     "execution_count": 21,
     "metadata": {},
     "output_type": "execute_result"
    }
   ],
   "source": [
    "a.inputs.data.info"
   ]
  },
  {
   "cell_type": "code",
   "execution_count": null,
   "metadata": {},
   "outputs": [],
   "source": [
    "def get_conditioning_indices(start_index, conditioning_timesteps, batch_size, max_index):\n",
    "    max_rel_index = max_index - start_index\n",
    "    return (np.arange(min(batch_size, max_rel_index))[:,None] + conditioning_timesteps).ravel() + start_index\n",
    "\n",
    "def get_target_indices(start_index, lead_time, batch_size, max_index):\n",
    "    max_rel_index = max_index - start_index\n",
    "    return (np.arange(min(batch_size, max_rel_index))[:,None] + lead_time).ravel() + start_index"
   ]
  },
  {
   "cell_type": "code",
   "execution_count": null,
   "metadata": {},
   "outputs": [],
   "source": [
    "def iterator(zarr_group, start, stop, batch_size, conditioning_timesteps, lead_time):\n",
    "    # careful when calculating number of samples!\n",
    "    array_inputs = zarr_group.inputs.data\n",
    "    array_targets = zarr_group.targets.data\n",
    "    array_constants = zarr_group.constants.data\n",
    "\n",
    "    assert stop <= array_inputs.shape[0] - lead_time\n",
    "    chunk_size = array_inputs.chunks[0]\n",
    "    effective_batchsize = batch_size - min(conditioning_timesteps) + lead_time\n",
    "    chunks_per_batch = np.ceil(effective_batchsize / chunk_size)\n",
    "\n",
    "    starts = np.arange(start, stop, batch_size)\n",
    "    current_chunk = -1\n",
    "    \n",
    "    for j in starts:\n",
    "        print(j, np.arange(j, min(j+batch_size, stop)))\n",
    "        if j >= (current_chunk+1) * chunk_size:\n",
    "            chunks_input = torch.tensor(array_inputs.oindex[np.arange(current_chunk * chunk_size, min((chunks_per_batch + 1 + current_chunk) * chunk_size, stop), dtype=int),:,:,:])\n",
    "            chunks_targets= torch.tensor(array_targets.oindex[np.arange(current_chunk * chunk_size, min((chunks_per_batch + 1 + current_chunk) * chunk_size, stop), dtype=int),:,:,:])\n",
    "            current_chunk = j // chunk_size\n",
    "\n",
    "        input_data = chunks_input[get_conditioning_indices(j, conditioning_timesteps=conditioning_timesteps, batch_size=batch_size, max_index=stop) % chunk_size]\n",
    "        input_data = input_data.view(-1, len(conditioning_timesteps)*input_data.shape[1], *input_data.shape[2:])\n",
    "        output_data = chunks_targets[get_target_indices(j, lead_time=lead_time, batch_size=batch_size, max_index=stop) % chunk_size]\n",
    "\n",
    "        input_data = torch.concatenate((input_data, torch.tensor(array_constants[:])[None,...].repeat(input_data.shape[0], 1, 1, 1)), dim=1)\n",
    "        yield input_data, output_data\n"
   ]
  },
  {
   "cell_type": "code",
   "execution_count": null,
   "metadata": {},
   "outputs": [],
   "source": [
    "a = zarr.open(\"/data/compoundx/WeatherDiff/model_input/9921EA_train.zarr\")"
   ]
  },
  {
   "cell_type": "code",
   "execution_count": 29,
   "metadata": {},
   "outputs": [
    {
     "ename": "NameError",
     "evalue": "name 'iterator' is not defined",
     "output_type": "error",
     "traceback": [
      "\u001b[0;31m---------------------------------------------------------------------------\u001b[0m",
      "\u001b[0;31mNameError\u001b[0m                                 Traceback (most recent call last)",
      "Cell \u001b[0;32mIn[29], line 1\u001b[0m\n\u001b[0;32m----> 1\u001b[0m \u001b[39mfor\u001b[39;00m k, j \u001b[39min\u001b[39;00m iterator(a, \u001b[39m0\u001b[39m, \u001b[39m100\u001b[39m, \u001b[39m8\u001b[39m, [\u001b[39m0\u001b[39m,\u001b[39m-\u001b[39m\u001b[39m1\u001b[39m,\u001b[39m-\u001b[39m\u001b[39m2\u001b[39m], lead_time\u001b[39m=\u001b[39m\u001b[39m2\u001b[39m):\n\u001b[1;32m      2\u001b[0m     \u001b[39mprint\u001b[39m(k\u001b[39m.\u001b[39mshape[\u001b[39m0\u001b[39m])\n",
      "\u001b[0;31mNameError\u001b[0m: name 'iterator' is not defined"
     ]
    }
   ],
   "source": [
    "for k, j in iterator(a, 0, 100, 8, [0,-1,-2], lead_time=2):\n",
    "    print(k.shape[0])"
   ]
  },
  {
   "cell_type": "code",
   "execution_count": 1,
   "metadata": {},
   "outputs": [],
   "source": [
    "from WD.datasets import Conditional_Dataset_Zarr_Iterable\n",
    "from torch.utils.data import DataLoader\n",
    "import torch\n",
    "import zarr"
   ]
  },
  {
   "cell_type": "code",
   "execution_count": 14,
   "metadata": {},
   "outputs": [],
   "source": [
    "ds = Conditional_Dataset_Zarr_Iterable(zarr_file_path=\"/data/compoundx/WeatherDiff/model_input/9921EA_test.zarr\", config_file_path=\"/data/compoundx/WeatherDiff/config_file/9921EA.yml\", shuffle_chunks=False, shuffle_in_chunks=True)"
   ]
  },
  {
   "cell_type": "code",
   "execution_count": 15,
   "metadata": {},
   "outputs": [],
   "source": [
    "dl = DataLoader(ds, batch_size=500)"
   ]
  },
  {
   "cell_type": "code",
   "execution_count": 16,
   "metadata": {},
   "outputs": [
    {
     "name": "stdout",
     "output_type": "stream",
     "text": [
      "500\n",
      "500\n",
      "500\n",
      "500\n",
      "500\n",
      "404\n"
     ]
    }
   ],
   "source": [
    "for input, target in dl:\n",
    "    print(input.shape[0])"
   ]
  },
  {
   "cell_type": "code",
   "execution_count": 5,
   "metadata": {},
   "outputs": [],
   "source": [
    "a = zarr.open(\"/data/compoundx/WeatherDiff/model_input/9921EA_test.zarr\")"
   ]
  },
  {
   "cell_type": "code",
   "execution_count": 2,
   "metadata": {},
   "outputs": [],
   "source": [
    "a = zarr.open(\"/data/compoundx/WeatherDiff/model_input/ACBB5F_train.zarr\")"
   ]
  },
  {
   "cell_type": "code",
   "execution_count": 24,
   "metadata": {},
   "outputs": [
    {
     "data": {
      "text/plain": [
       "5067.015625"
      ]
     },
     "execution_count": 24,
     "metadata": {},
     "output_type": "execute_result"
    }
   ],
   "source": [
    "a.inputs.data.shape[0] / 64"
   ]
  }
 ],
 "metadata": {
  "kernelspec": {
   "display_name": "TORCH311",
   "language": "python",
   "name": "python3"
  },
  "language_info": {
   "codemirror_mode": {
    "name": "ipython",
    "version": 3
   },
   "file_extension": ".py",
   "mimetype": "text/x-python",
   "name": "python",
   "nbconvert_exporter": "python",
   "pygments_lexer": "ipython3",
   "version": "3.11.3"
  },
  "orig_nbformat": 4
 },
 "nbformat": 4,
 "nbformat_minor": 2
}
