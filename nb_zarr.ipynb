{
 "cells": [
  {
   "cell_type": "code",
   "execution_count": 10,
   "metadata": {},
   "outputs": [],
   "source": [
    "from WD.datasets import Conditional_Dataset_Zarr\n",
    "import numpy as np\n",
    "import torch\n",
    "import zarr\n",
    "import torch\n",
    "from torch.utils.data import Sampler, RandomSampler, BatchSampler, SequentialSampler\n",
    "import dask"
   ]
  },
  {
   "attachments": {},
   "cell_type": "markdown",
   "metadata": {},
   "source": [
    "# Test zarr read speads."
   ]
  },
  {
   "cell_type": "code",
   "execution_count": 6,
   "metadata": {},
   "outputs": [],
   "source": [
    "\n",
    "\n",
    "z = zarr.open(\"/home/wider/Projects/diffusion-models-for-weather-prediction/test_zarr/test.zarr\",  mode='w', shape=(1e5, 1e4), chunks=(10000, 10000), compressor=None)\n",
    "\n",
    "z[:] = 0"
   ]
  },
  {
   "cell_type": "code",
   "execution_count": 9,
   "metadata": {},
   "outputs": [],
   "source": [
    "a = zarr.open(\"/home/wider/Projects/diffusion-models-for-weather-prediction/test_zarr/test.zarr\",  mode='r')"
   ]
  },
  {
   "cell_type": "code",
   "execution_count": 15,
   "metadata": {},
   "outputs": [
    {
     "data": {
      "text/plain": [
       "array([[0., 0., 0., ..., 0., 0., 0.],\n",
       "       [0., 0., 0., ..., 0., 0., 0.],\n",
       "       [0., 0., 0., ..., 0., 0., 0.],\n",
       "       ...,\n",
       "       [0., 0., 0., ..., 0., 0., 0.],\n",
       "       [0., 0., 0., ..., 0., 0., 0.],\n",
       "       [0., 0., 0., ..., 0., 0., 0.]])"
      ]
     },
     "execution_count": 15,
     "metadata": {},
     "output_type": "execute_result"
    }
   ],
   "source": [
    "a.oindex[0:10,:]"
   ]
  },
  {
   "cell_type": "code",
   "execution_count": 6,
   "metadata": {},
   "outputs": [],
   "source": [
    "b = zarr.open(\"/data/compoundx/WeatherDiff/model_input/079A9C_train.zarr/\",  mode='r')"
   ]
  },
  {
   "cell_type": "code",
   "execution_count": 7,
   "metadata": {},
   "outputs": [],
   "source": [
    "z1 = zarr.open(\"/home/wider/Projects/diffusion-models-for-weather-prediction/test_zarr/test2.zarr\",  mode='w', shape=(54049, 5, 32, 64), chunks=(54049, 5, 32, 64), compressor=None)\n",
    "z2 = zarr.open(\"/home/wider/Projects/diffusion-models-for-weather-prediction/test_zarr/test3.zarr\",  mode='w', shape=(54049, 5, 32, 64), chunks=(1, 5, 32, 64), compressor=None)"
   ]
  },
  {
   "cell_type": "code",
   "execution_count": 9,
   "metadata": {},
   "outputs": [],
   "source": [
    "z1[:,:,:,:] = b.inputs.data[:,:,:,:]"
   ]
  },
  {
   "cell_type": "code",
   "execution_count": 10,
   "metadata": {},
   "outputs": [],
   "source": [
    "z2[:,:,:,:] = b.inputs.data[:,:,:,:]"
   ]
  },
  {
   "cell_type": "code",
   "execution_count": 41,
   "metadata": {},
   "outputs": [
    {
     "ename": "KeyboardInterrupt",
     "evalue": "",
     "output_type": "error",
     "traceback": [
      "\u001b[0;31m---------------------------------------------------------------------------\u001b[0m",
      "\u001b[0;31mKeyboardInterrupt\u001b[0m                         Traceback (most recent call last)",
      "Cell \u001b[0;32mIn[41], line 1\u001b[0m\n\u001b[0;32m----> 1\u001b[0m z1[:,:,:,:] \u001b[39m=\u001b[39m b\u001b[39m.\u001b[39;49minputs\u001b[39m.\u001b[39;49mdata[:,:,:,:]\n\u001b[1;32m      2\u001b[0m z1[:,:,:,:] \u001b[39m=\u001b[39m b\u001b[39m.\u001b[39minputs\u001b[39m.\u001b[39mdata[:,:,:,:]\n",
      "File \u001b[0;32m~/.conda/envs/TORCH311/lib/python3.11/site-packages/zarr/core.py:807\u001b[0m, in \u001b[0;36mArray.__getitem__\u001b[0;34m(self, selection)\u001b[0m\n\u001b[1;32m    805\u001b[0m     result \u001b[39m=\u001b[39m \u001b[39mself\u001b[39m\u001b[39m.\u001b[39mvindex[selection]\n\u001b[1;32m    806\u001b[0m \u001b[39melse\u001b[39;00m:\n\u001b[0;32m--> 807\u001b[0m     result \u001b[39m=\u001b[39m \u001b[39mself\u001b[39;49m\u001b[39m.\u001b[39;49mget_basic_selection(pure_selection, fields\u001b[39m=\u001b[39;49mfields)\n\u001b[1;32m    808\u001b[0m \u001b[39mreturn\u001b[39;00m result\n",
      "File \u001b[0;32m~/.conda/envs/TORCH311/lib/python3.11/site-packages/zarr/core.py:933\u001b[0m, in \u001b[0;36mArray.get_basic_selection\u001b[0;34m(self, selection, out, fields)\u001b[0m\n\u001b[1;32m    930\u001b[0m     \u001b[39mreturn\u001b[39;00m \u001b[39mself\u001b[39m\u001b[39m.\u001b[39m_get_basic_selection_zd(selection\u001b[39m=\u001b[39mselection, out\u001b[39m=\u001b[39mout,\n\u001b[1;32m    931\u001b[0m                                         fields\u001b[39m=\u001b[39mfields)\n\u001b[1;32m    932\u001b[0m \u001b[39melse\u001b[39;00m:\n\u001b[0;32m--> 933\u001b[0m     \u001b[39mreturn\u001b[39;00m \u001b[39mself\u001b[39;49m\u001b[39m.\u001b[39;49m_get_basic_selection_nd(selection\u001b[39m=\u001b[39;49mselection, out\u001b[39m=\u001b[39;49mout,\n\u001b[1;32m    934\u001b[0m                                         fields\u001b[39m=\u001b[39;49mfields)\n",
      "File \u001b[0;32m~/.conda/envs/TORCH311/lib/python3.11/site-packages/zarr/core.py:976\u001b[0m, in \u001b[0;36mArray._get_basic_selection_nd\u001b[0;34m(self, selection, out, fields)\u001b[0m\n\u001b[1;32m    970\u001b[0m \u001b[39mdef\u001b[39;00m \u001b[39m_get_basic_selection_nd\u001b[39m(\u001b[39mself\u001b[39m, selection, out\u001b[39m=\u001b[39m\u001b[39mNone\u001b[39;00m, fields\u001b[39m=\u001b[39m\u001b[39mNone\u001b[39;00m):\n\u001b[1;32m    971\u001b[0m     \u001b[39m# implementation of basic selection for array with at least one dimension\u001b[39;00m\n\u001b[1;32m    972\u001b[0m \n\u001b[1;32m    973\u001b[0m     \u001b[39m# setup indexer\u001b[39;00m\n\u001b[1;32m    974\u001b[0m     indexer \u001b[39m=\u001b[39m BasicIndexer(selection, \u001b[39mself\u001b[39m)\n\u001b[0;32m--> 976\u001b[0m     \u001b[39mreturn\u001b[39;00m \u001b[39mself\u001b[39;49m\u001b[39m.\u001b[39;49m_get_selection(indexer\u001b[39m=\u001b[39;49mindexer, out\u001b[39m=\u001b[39;49mout, fields\u001b[39m=\u001b[39;49mfields)\n",
      "File \u001b[0;32m~/.conda/envs/TORCH311/lib/python3.11/site-packages/zarr/core.py:1267\u001b[0m, in \u001b[0;36mArray._get_selection\u001b[0;34m(self, indexer, out, fields)\u001b[0m\n\u001b[1;32m   1261\u001b[0m \u001b[39mif\u001b[39;00m \u001b[39mnot\u001b[39;00m \u001b[39mhasattr\u001b[39m(\u001b[39mself\u001b[39m\u001b[39m.\u001b[39mchunk_store, \u001b[39m\"\u001b[39m\u001b[39mgetitems\u001b[39m\u001b[39m\"\u001b[39m) \u001b[39mor\u001b[39;00m \\\n\u001b[1;32m   1262\u001b[0m    \u001b[39many\u001b[39m(\u001b[39mmap\u001b[39m(\u001b[39mlambda\u001b[39;00m x: x \u001b[39m==\u001b[39m \u001b[39m0\u001b[39m, \u001b[39mself\u001b[39m\u001b[39m.\u001b[39mshape)):\n\u001b[1;32m   1263\u001b[0m     \u001b[39m# sequentially get one key at a time from storage\u001b[39;00m\n\u001b[1;32m   1264\u001b[0m     \u001b[39mfor\u001b[39;00m chunk_coords, chunk_selection, out_selection \u001b[39min\u001b[39;00m indexer:\n\u001b[1;32m   1265\u001b[0m \n\u001b[1;32m   1266\u001b[0m         \u001b[39m# load chunk selection into output array\u001b[39;00m\n\u001b[0;32m-> 1267\u001b[0m         \u001b[39mself\u001b[39;49m\u001b[39m.\u001b[39;49m_chunk_getitem(chunk_coords, chunk_selection, out, out_selection,\n\u001b[1;32m   1268\u001b[0m                             drop_axes\u001b[39m=\u001b[39;49mindexer\u001b[39m.\u001b[39;49mdrop_axes, fields\u001b[39m=\u001b[39;49mfields)\n\u001b[1;32m   1269\u001b[0m \u001b[39melse\u001b[39;00m:\n\u001b[1;32m   1270\u001b[0m     \u001b[39m# allow storage to get multiple items at once\u001b[39;00m\n\u001b[1;32m   1271\u001b[0m     lchunk_coords, lchunk_selection, lout_selection \u001b[39m=\u001b[39m \u001b[39mzip\u001b[39m(\u001b[39m*\u001b[39mindexer)\n",
      "File \u001b[0;32m~/.conda/envs/TORCH311/lib/python3.11/site-packages/zarr/core.py:1966\u001b[0m, in \u001b[0;36mArray._chunk_getitem\u001b[0;34m(self, chunk_coords, chunk_selection, out, out_selection, drop_axes, fields)\u001b[0m\n\u001b[1;32m   1962\u001b[0m ckey \u001b[39m=\u001b[39m \u001b[39mself\u001b[39m\u001b[39m.\u001b[39m_chunk_key(chunk_coords)\n\u001b[1;32m   1964\u001b[0m \u001b[39mtry\u001b[39;00m:\n\u001b[1;32m   1965\u001b[0m     \u001b[39m# obtain compressed data for chunk\u001b[39;00m\n\u001b[0;32m-> 1966\u001b[0m     cdata \u001b[39m=\u001b[39m \u001b[39mself\u001b[39;49m\u001b[39m.\u001b[39;49mchunk_store[ckey]\n\u001b[1;32m   1968\u001b[0m \u001b[39mexcept\u001b[39;00m \u001b[39mKeyError\u001b[39;00m:\n\u001b[1;32m   1969\u001b[0m     \u001b[39m# chunk not initialized\u001b[39;00m\n\u001b[1;32m   1970\u001b[0m     \u001b[39mif\u001b[39;00m \u001b[39mself\u001b[39m\u001b[39m.\u001b[39m_fill_value \u001b[39mis\u001b[39;00m \u001b[39mnot\u001b[39;00m \u001b[39mNone\u001b[39;00m:\n",
      "File \u001b[0;32m~/.conda/envs/TORCH311/lib/python3.11/site-packages/zarr/storage.py:1072\u001b[0m, in \u001b[0;36mDirectoryStore.__getitem__\u001b[0;34m(self, key)\u001b[0m\n\u001b[1;32m   1070\u001b[0m filepath \u001b[39m=\u001b[39m os\u001b[39m.\u001b[39mpath\u001b[39m.\u001b[39mjoin(\u001b[39mself\u001b[39m\u001b[39m.\u001b[39mpath, key)\n\u001b[1;32m   1071\u001b[0m \u001b[39mif\u001b[39;00m os\u001b[39m.\u001b[39mpath\u001b[39m.\u001b[39misfile(filepath):\n\u001b[0;32m-> 1072\u001b[0m     \u001b[39mreturn\u001b[39;00m \u001b[39mself\u001b[39;49m\u001b[39m.\u001b[39;49m_fromfile(filepath)\n\u001b[1;32m   1073\u001b[0m \u001b[39melse\u001b[39;00m:\n\u001b[1;32m   1074\u001b[0m     \u001b[39mraise\u001b[39;00m \u001b[39mKeyError\u001b[39;00m(key)\n",
      "File \u001b[0;32m~/.conda/envs/TORCH311/lib/python3.11/site-packages/zarr/storage.py:1047\u001b[0m, in \u001b[0;36mDirectoryStore._fromfile\u001b[0;34m(fn)\u001b[0m\n\u001b[1;32m   1034\u001b[0m \u001b[39m\u001b[39m\u001b[39m\"\"\" Read data from a file\u001b[39;00m\n\u001b[1;32m   1035\u001b[0m \n\u001b[1;32m   1036\u001b[0m \u001b[39mParameters\u001b[39;00m\n\u001b[0;32m   (...)\u001b[0m\n\u001b[1;32m   1044\u001b[0m \u001b[39mfile reading logic.\u001b[39;00m\n\u001b[1;32m   1045\u001b[0m \u001b[39m\"\"\"\u001b[39;00m\n\u001b[1;32m   1046\u001b[0m \u001b[39mwith\u001b[39;00m \u001b[39mopen\u001b[39m(fn, \u001b[39m'\u001b[39m\u001b[39mrb\u001b[39m\u001b[39m'\u001b[39m) \u001b[39mas\u001b[39;00m f:\n\u001b[0;32m-> 1047\u001b[0m     \u001b[39mreturn\u001b[39;00m f\u001b[39m.\u001b[39mread()\n",
      "\u001b[0;31mKeyboardInterrupt\u001b[0m: "
     ]
    }
   ],
   "source": [
    "z1[:,:,:,:] = b.inputs.data[:,:,:,:]\n",
    "z1[:,:,:,:] = b.inputs.data[:,:,:,:]"
   ]
  },
  {
   "cell_type": "code",
   "execution_count": 11,
   "metadata": {},
   "outputs": [],
   "source": [
    "test2 = zarr.open(\"/home/wider/Projects/diffusion-models-for-weather-prediction/test_zarr/test2.zarr\",  mode='r')\n",
    "test3 = zarr.open(\"/home/wider/Projects/diffusion-models-for-weather-prediction/test_zarr/test3.zarr\",  mode='r')"
   ]
  },
  {
   "cell_type": "code",
   "execution_count": 19,
   "metadata": {},
   "outputs": [],
   "source": [
    "# load entire chunk\n",
    "a = test2[:,:,:,:]\n",
    "\n",
    "for i in range(len(a)):\n",
    "    # access elements one time step at a time\n",
    "    a[i,...]"
   ]
  },
  {
   "cell_type": "code",
   "execution_count": 21,
   "metadata": {},
   "outputs": [],
   "source": [
    "# open one chunk at a time\n",
    "for i in range(test3.shape[0]):\n",
    "    # access elements one time step at a time\n",
    "    test3[i, :, :, :]"
   ]
  },
  {
   "cell_type": "code",
   "execution_count": 3,
   "metadata": {},
   "outputs": [],
   "source": [
    "from WD.io import load_config\n",
    "import numpy as np"
   ]
  }
 ],
 "metadata": {
  "kernelspec": {
   "display_name": "TORCH311",
   "language": "python",
   "name": "python3"
  },
  "language_info": {
   "codemirror_mode": {
    "name": "ipython",
    "version": 3
   },
   "file_extension": ".py",
   "mimetype": "text/x-python",
   "name": "python",
   "nbconvert_exporter": "python",
   "pygments_lexer": "ipython3",
   "version": "3.11.3"
  },
  "orig_nbformat": 4
 },
 "nbformat": 4,
 "nbformat_minor": 2
}
