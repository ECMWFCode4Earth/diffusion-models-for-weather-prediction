{
 "cells": [
  {
   "cell_type": "code",
   "execution_count": 21,
   "metadata": {},
   "outputs": [],
   "source": [
    "from dm_zoo.dff.PixelDiffusion import PixelDiffusionConditional\n",
    "from pathlib import Path\n",
    "from WD.datasets import Conditional_Dataset\n",
    "from WD.utils import create_dir\n",
    "from WD.io import load_config, create_xr_output_variables\n",
    "\n",
    "import pytorch_lightning as pl\n",
    "\n",
    "from torch.utils.data import DataLoader\n",
    "import torch"
   ]
  },
  {
   "cell_type": "code",
   "execution_count": 48,
   "metadata": {},
   "outputs": [],
   "source": [
    "ds_id = \"2C730B\"\n",
    "run_id = \"F7BBAE\""
   ]
  },
  {
   "cell_type": "code",
   "execution_count": 49,
   "metadata": {},
   "outputs": [],
   "source": [
    "ds = Conditional_Dataset(\n",
    "    \"/data/compoundx/WeatherDiff/model_input/{}_test.pt\".format(ds_id),\n",
    "    \"/data/compoundx/WeatherDiff/config_file/{}.yml\".format(ds_id),\n",
    ")\n",
    "\n",
    "B = 256\n",
    "\n",
    "dl = DataLoader(ds, batch_size=B, shuffle=False)"
   ]
  },
  {
   "cell_type": "code",
   "execution_count": 36,
   "metadata": {},
   "outputs": [],
   "source": [
    "def custom_collate(batch, num_copies):\n",
    "    inputs = torch.stack([sample[0] for sample in batch])\n",
    "    targets = torch.stack([sample[1] for sample in batch])\n",
    "    dates = torch.stack([sample[2] for sample in batch])\n",
    "    return [inputs.repeat(repeats=(num_copies,1,1,1)), targets.repeat(repeats=(num_copies,1,1,1)), dates.repeat(repeats=(num_copies,))]"
   ]
  },
  {
   "cell_type": "code",
   "execution_count": 37,
   "metadata": {},
   "outputs": [],
   "source": [
    "num_copies = 2\n",
    "dl2 = DataLoader(ds, batch_size=B, shuffle=False, collate_fn=lambda x: custom_collate(x, num_copies=num_copies))"
   ]
  },
  {
   "cell_type": "code",
   "execution_count": 38,
   "metadata": {},
   "outputs": [
    {
     "name": "stdout",
     "output_type": "stream",
     "text": [
      "torch.Size([256, 11, 32, 64])\n",
      "torch.Size([256, 1, 32, 64])\n",
      "torch.Size([256])\n",
      "torch.Size([512, 11, 32, 64])\n",
      "torch.Size([512, 1, 32, 64])\n",
      "torch.Size([512])\n"
     ]
    }
   ],
   "source": [
    "print(next(iter(dl))[0].shape)\n",
    "print(next(iter(dl))[1].shape)\n",
    "print(next(iter(dl))[2].shape)\n",
    "print(next(iter(dl2))[0].shape)\n",
    "print(next(iter(dl2))[1].shape)\n",
    "print(next(iter(dl2))[2].shape)"
   ]
  }
 ],
 "metadata": {
  "kernelspec": {
   "display_name": "TORCH311",
   "language": "python",
   "name": "python3"
  },
  "language_info": {
   "codemirror_mode": {
    "name": "ipython",
    "version": 3
   },
   "file_extension": ".py",
   "mimetype": "text/x-python",
   "name": "python",
   "nbconvert_exporter": "python",
   "pygments_lexer": "ipython3",
   "version": "3.11.3"
  },
  "orig_nbformat": 4
 },
 "nbformat": 4,
 "nbformat_minor": 2
}
