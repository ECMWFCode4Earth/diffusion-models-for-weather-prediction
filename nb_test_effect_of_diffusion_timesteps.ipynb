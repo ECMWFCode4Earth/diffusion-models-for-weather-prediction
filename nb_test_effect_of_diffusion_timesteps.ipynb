{
 "cells": [
  {
   "cell_type": "code",
   "execution_count": 1,
   "metadata": {},
   "outputs": [],
   "source": [
    "import xarray as xr\n",
    "import numpy as np\n",
    "import torch\n",
    "from benchmark.bm.score import compute_weighted_rmse, compute_weighted_mae, compute_weighted_acc\n",
    "\n",
    "import matplotlib\n",
    "import matplotlib.pyplot as plt\n",
    "\n",
    "import copy\n",
    "import matplotlib.gridspec as gridspec\n",
    "\n",
    "from WD.plotting import plot_map, add_label_to_axes\n",
    "\n",
    "import cartopy.crs as ccrs"
   ]
  },
  {
   "cell_type": "code",
   "execution_count": 2,
   "metadata": {},
   "outputs": [],
   "source": [
    "ds_id = \"278771\"\n",
    "model_id = \"172195\""
   ]
  },
  {
   "cell_type": "code",
   "execution_count": 4,
   "metadata": {},
   "outputs": [
    {
     "name": "stdout",
     "output_type": "stream",
     "text": [
      "50 : RMSE is 2938.4\n",
      "100 : RMSE is 1441.8\n",
      "200 : RMSE is 611.9\n",
      "400 : RMSE is 612.4\n",
      "600 : RMSE is 612.7\n",
      "800 : RMSE is 612.9\n",
      "1000 : RMSE is 612.5\n"
     ]
    }
   ],
   "source": [
    "for k in [50,100,200,400,600,800,1000]:\n",
    "    targets = xr.load_dataset(f\"/data/compoundx/WeatherDiff/model_output/{ds_id}/{model_id}_{k}_target.nc\")\n",
    "    predictions = xr.load_dataset(f\"/data/compoundx/WeatherDiff/model_output/{ds_id}/{model_id}_{k}_gen.nc\")\n",
    "\n",
    "    rmse = compute_weighted_rmse(predictions.isel({\"ensemble_member\":0}), targets.isel({\"ensemble_member\":0}))\n",
    "    print(k, \": RMSE is {:.1f}\".format(rmse.z_500.values))"
   ]
  }
 ],
 "metadata": {
  "kernelspec": {
   "display_name": "TORCH311",
   "language": "python",
   "name": "python3"
  },
  "language_info": {
   "codemirror_mode": {
    "name": "ipython",
    "version": 3
   },
   "file_extension": ".py",
   "mimetype": "text/x-python",
   "name": "python",
   "nbconvert_exporter": "python",
   "pygments_lexer": "ipython3",
   "version": "3.11.3"
  },
  "orig_nbformat": 4
 },
 "nbformat": 4,
 "nbformat_minor": 2
}
