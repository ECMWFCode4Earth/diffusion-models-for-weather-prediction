{
 "cells": [
  {
   "cell_type": "code",
   "execution_count": 2,
   "metadata": {},
   "outputs": [],
   "source": [
    "import xarray as xr\n",
    "import numpy as np\n",
    "\n",
    "\n",
    "import cartopy.crs as ccrs\n",
    "\n",
    "import copy\n",
    "\n",
    "import matplotlib\n",
    "import matplotlib.pyplot as plt\n",
    "import matplotlib.gridspec as gridspec\n",
    "\n",
    "from WD.plotting import plot_map, add_label_to_axes\n",
    "\n",
    "from benchmark.bm.score import compute_weighted_rmse, compute_weighted_mae, compute_weighted_acc"
   ]
  },
  {
   "cell_type": "code",
   "execution_count": 3,
   "metadata": {},
   "outputs": [],
   "source": [
    "# usually this would go on top of the notebook:\n",
    "plt.rcParams.update({'font.size': 8})  # sets font size for all cells\n",
    "plt.rcParams['figure.dpi'] = 300  # sets dpi for all cells\n",
    "\n",
    "alphabet_letters = np.array(list(map(chr, range(65, 91))))  # used for labelling subplots\n",
    "textwidth = 170  # 144  # in mm\n",
    "mm_to_inch = 0.0393701\n",
    "textwidth = textwidth * mm_to_inch # textwidth in inches"
   ]
  },
  {
   "attachments": {},
   "cell_type": "markdown",
   "metadata": {},
   "source": [
    "# First batch of experiments:"
   ]
  },
  {
   "cell_type": "code",
   "execution_count": 4,
   "metadata": {},
   "outputs": [],
   "source": [
    "runs_configs = {\n",
    "    \"diffusion\": (\"rasp_thuerey_z_500_3day\",  \"diffusion\", \"2023-09-13_19-47-27\", \"2023-09-14_09-45-42\"),\n",
    "    \"diffusion_10Members\": (\"rasp_thuerey_z_500_3day\",  \"diffusion\", \"2023-09-13_19-47-27\", \"2023-09-14_10-29-54\"),\n",
    "    \"diffusion_CosineAnnealing\": (\"rasp_thuerey_z_500_3day\",  \"diffusion_CosineAnnealing\", \"2023-09-13_22-56-04\", \"2023-09-14_09-51-06\"),\n",
    "    \"diffusion_deeper\": (\"rasp_thuerey_z_500_3day\",  \"diffusion_deeper\", \"2023-09-13_20-06-24\", \"2023-09-14_09-46-02\"),\n",
    "    \"diffusion_wider\": (\"rasp_thuerey_z_500_3day\",  \"diffusion_wider\", \"2023-09-13_20-04-33\", \"2023-09-14_09-46-01\"),\n",
    "    \"diffusion_MSE_Loss\": (\"rasp_thuerey_z_500_3day\",  \"diffusion_MSE_Loss\", \"2023-09-13_21-22-12\", \"2023-09-14_09-52-21\"),\n",
    "    \"diffusion_2csteps\": (\"rasp_thuerey_z_500_3day_2csteps\",  \"diffusion_2csteps\", \"2023-09-13_22-18-16\", \"2023-09-14_10-09-09\"),\n",
    "}\n",
    "\n",
    "predictions = dict()\n",
    "targets = dict()\n",
    "diff = dict()\n",
    "\n",
    "for key, r_config in runs_configs.items():\n",
    "    targets[key] = xr.load_dataset(\"/data/compoundx/WeatherDiff/model_output/{}/{}/{}/{}/target.nc\".format(*r_config))\n",
    "    predictions[key] = xr.load_dataset(\"/data/compoundx/WeatherDiff/model_output/{}/{}/{}/{}/gen.nc\".format(*r_config))\n",
    "    diff[key] = targets[key] - predictions[key]"
   ]
  },
  {
   "cell_type": "code",
   "execution_count": 5,
   "metadata": {},
   "outputs": [],
   "source": [
    "n_images = 8\n",
    "\n",
    "timesteps = np.random.choice(np.arange(len(predictions[key][\"init_time\"])), size=(n_images,))"
   ]
  },
  {
   "cell_type": "code",
   "execution_count": 6,
   "metadata": {},
   "outputs": [
    {
     "name": "stdout",
     "output_type": "stream",
     "text": [
      "RMSE diffusion is 679.6\n",
      "RMSE diffusion_10Members is 679.2\n",
      "RMSE diffusion_CosineAnnealing is 675.8\n",
      "RMSE diffusion_deeper is 671.1\n",
      "RMSE diffusion_wider is nan\n",
      "RMSE diffusion_MSE_Loss is 646.4\n",
      "RMSE diffusion_2csteps is 691.8\n"
     ]
    }
   ],
   "source": [
    "for key in runs_configs.keys():\n",
    "    rmse = compute_weighted_rmse(predictions[key].isel({\"ensemble_member\": 0}), targets[key].isel({\"ensemble_member\": 0}))\n",
    "    print(\"RMSE {} is {:.1f}\".format(key, rmse.z_500.values))"
   ]
  },
  {
   "attachments": {},
   "cell_type": "markdown",
   "metadata": {},
   "source": [
    "#### Ensemble mean RMSE vs Mean of RMSEs of members"
   ]
  },
  {
   "cell_type": "code",
   "execution_count": 32,
   "metadata": {},
   "outputs": [
    {
     "name": "stdout",
     "output_type": "stream",
     "text": [
      "RMSE of ensemble Mean: <xarray.Dataset>\n",
      "Dimensions:  ()\n",
      "Data variables:\n",
      "    z_500    float64 643.5\n",
      "Ensemble or RMSEs: 679.3 +/- 0.3\n"
     ]
    }
   ],
   "source": [
    "rmse_ensemble_mean = compute_weighted_rmse(predictions[\"diffusion_10Members\"].mean(\"ensemble_member\"), targets[\"diffusion_10Members\"].mean(\"ensemble_member\"))\n",
    "\n",
    "rmse = []\n",
    "for i in range(len(predictions[\"diffusion_10Members\"].ensemble_member)):\n",
    "    rmse.append(compute_weighted_rmse(predictions[\"diffusion_10Members\"].isel({\"ensemble_member\": i}), targets[\"diffusion_10Members\"].isel({\"ensemble_member\": 0})))\n",
    "\n",
    "mean_of_ensemble_rmse = np.mean([r.z_500.values for r in rmse])\n",
    "std_of_ensemble_rmse = np.std([r.z_500.values for r in rmse])\n",
    "\n",
    "\n",
    "print(f\"RMSE of ensemble Mean: {rmse_ensemble_mean}\")\n",
    "print(f\"Ensemble or RMSEs: {mean_of_ensemble_rmse:.1f} +/- {std_of_ensemble_rmse:.1f}\")"
   ]
  }
 ],
 "metadata": {
  "kernelspec": {
   "display_name": "WD_model",
   "language": "python",
   "name": "python3"
  },
  "language_info": {
   "codemirror_mode": {
    "name": "ipython",
    "version": 3
   },
   "file_extension": ".py",
   "mimetype": "text/x-python",
   "name": "python",
   "nbconvert_exporter": "python",
   "pygments_lexer": "ipython3",
   "version": "3.9.15"
  },
  "orig_nbformat": 4
 },
 "nbformat": 4,
 "nbformat_minor": 2
}
