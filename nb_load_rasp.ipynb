{
 "cells": [
  {
   "cell_type": "code",
   "execution_count": 1,
   "metadata": {},
   "outputs": [],
   "source": [
    "from WD.io import load_config, n_condition_channels\n",
    "import yaml\n",
    "from munch import Munch\n"
   ]
  },
  {
   "cell_type": "code",
   "execution_count": 6,
   "metadata": {},
   "outputs": [],
   "source": [
    "config = \"/data/compoundx/WeatherDiff/config_file/template_rasp_thuerey_no_precip.yml\"\n",
    "c = load_config(config)"
   ]
  },
  {
   "cell_type": "code",
   "execution_count": 11,
   "metadata": {},
   "outputs": [
    {
     "ename": "NameError",
     "evalue": "name 'n_generated_channels' is not defined",
     "output_type": "error",
     "traceback": [
      "\u001b[0;31m---------------------------------------------------------------------------\u001b[0m",
      "\u001b[0;31mNameError\u001b[0m                                 Traceback (most recent call last)",
      "Cell \u001b[0;32mIn[11], line 6\u001b[0m\n\u001b[1;32m      4\u001b[0m config \u001b[39m=\u001b[39m Munch\u001b[39m.\u001b[39mfromDict(config)\n\u001b[1;32m      5\u001b[0m \u001b[39mif\u001b[39;00m \u001b[39m\"\u001b[39m\u001b[39mdata_specs\u001b[39m\u001b[39m\"\u001b[39m \u001b[39min\u001b[39;00m config:\n\u001b[0;32m----> 6\u001b[0m     config\u001b[39m.\u001b[39mn_generated_channels \u001b[39m=\u001b[39m n_generated_channels(config)\n\u001b[1;32m      7\u001b[0m     config\u001b[39m.\u001b[39mn_condition_channels \u001b[39m=\u001b[39m n_condition_channels(config)\n",
      "\u001b[0;31mNameError\u001b[0m: name 'n_generated_channels' is not defined"
     ]
    }
   ],
   "source": [
    "if type(config) == str:\n",
    "    with open(config) as f:\n",
    "        config = yaml.safe_load(f)\n",
    "config = Munch.fromDict(config)\n",
    "if \"data_specs\" in config:\n",
    "    config.n_generated_channels = n_generated_channels(config)\n",
    "    config.n_condition_channels = n_condition_channels(config)"
   ]
  },
  {
   "cell_type": "code",
   "execution_count": 9,
   "metadata": {},
   "outputs": [
    {
     "data": {
      "text/plain": [
       "['orography', 'lat2d', 'lsm']"
      ]
     },
     "execution_count": 9,
     "metadata": {},
     "output_type": "execute_result"
    }
   ],
   "source": [
    "c.data_specs.constants"
   ]
  },
  {
   "cell_type": "code",
   "execution_count": 14,
   "metadata": {},
   "outputs": [
    {
     "data": {
      "text/plain": [
       "{'temperature': {'level': [50, 250, 500, 600, 700, 850, 925]},\n",
       " 'geopotential': {'level': [50, 250, 500, 600, 700, 850, 925]},\n",
       " 'u_component_of_wind': {'level': [50, 250, 500, 600, 700, 850, 925]},\n",
       " 'v_component_of_wind': {'level': [50, 250, 500, 600, 700, 850, 925]},\n",
       " 'specific_humidity': {'level': [50, 250, 500, 600, 700, 850, 925]},\n",
       " '2m_temperature': None,\n",
       " 'total_precipitation': None,\n",
       " 'toa_incident_solar_radiation': None}"
      ]
     },
     "execution_count": 14,
     "metadata": {},
     "output_type": "execute_result"
    }
   ],
   "source": [
    "config.data_specs.conditioning_vars.toDict()"
   ]
  },
  {
   "cell_type": "code",
   "execution_count": 11,
   "metadata": {},
   "outputs": [
    {
     "data": {
      "text/plain": [
       "Munch({'data_specs': Munch({'conditioning_time_step': [0, -1, -2], 'conditioning_vars': Munch({'temperature': Munch({'level': [50, 250, 500, 600, 700, 850, 925]}), 'geopotential': Munch({'level': [50, 250, 500, 600, 700, 850, 925]}), 'u_component_of_wind': Munch({'level': [50, 250, 500, 600, 700, 850, 925]}), 'v_component_of_wind': Munch({'level': [50, 250, 500, 600, 700, 850, 925]}), 'specific_humidity': Munch({'level': [50, 250, 500, 600, 700, 850, 925]}), '2m_temperature': None, 'total_precipitation': None, 'toa_incident_solar_radiation': None}), 'constants': ['orography', 'lat2d', 'lsm'], 'delta_t': 6, 'lead_time': 12, 'output_vars': Munch({'geopotential_500': None, 'temperature_850': None, '2m_temperature': None}), 'spatial_resolution': '5.625deg'}), 'exp_data': Munch({'test': Munch({'start': datetime.datetime(2017, 1, 1, 0, 0), 'end': datetime.datetime(2018, 12, 31, 0, 0)}), 'train': Munch({'start': datetime.datetime(1979, 1, 2, 0, 0), 'end': datetime.datetime(2015, 12, 31, 0, 0)}), 'val': Munch({'start': datetime.datetime(2016, 1, 1, 0, 0), 'end': datetime.datetime(2016, 12, 31, 0, 0)})}), 'file_structure': Munch({'dir_WeatherBench': '/data/compoundx/WeatherBench/', 'dir_model_input': '/data/compoundx/WeatherDiff/model_input/'}), 'n_generated_channels': 3, 'n_condition_channels': 117})"
      ]
     },
     "execution_count": 11,
     "metadata": {},
     "output_type": "execute_result"
    }
   ],
   "source": [
    "c"
   ]
  },
  {
   "cell_type": "code",
   "execution_count": null,
   "metadata": {},
   "outputs": [],
   "source": []
  }
 ],
 "metadata": {
  "kernelspec": {
   "display_name": "TORCH311",
   "language": "python",
   "name": "python3"
  },
  "language_info": {
   "codemirror_mode": {
    "name": "ipython",
    "version": 3
   },
   "file_extension": ".py",
   "mimetype": "text/x-python",
   "name": "python",
   "nbconvert_exporter": "python",
   "pygments_lexer": "ipython3",
   "version": "3.11.3"
  },
  "orig_nbformat": 4
 },
 "nbformat": 4,
 "nbformat_minor": 2
}
