{
 "cells": [
  {
   "cell_type": "code",
   "execution_count": 1,
   "metadata": {},
   "outputs": [],
   "source": [
    "import os"
   ]
  },
  {
   "cell_type": "code",
   "execution_count": 2,
   "metadata": {},
   "outputs": [],
   "source": [
    "t_850 = {\n",
    "    \"1\": \"2023-09-16_18-02-54\",\n",
    "    \"2\": \"2023-09-15_16-51-04\",\n",
    "    \"3\": \"2023-09-15_16-51-22\",\n",
    "    \"4\": \"2023-09-15_16-50-34\",\n",
    "    \"5\": \"2023-09-15_16-44-10\",  \n",
    "}\n",
    "\n",
    "z_500 = {\n",
    "    \"1\": \"2023-09-15_16-40-28\",\n",
    "    \"2\": \"2023-09-15_16-40-15\",\n",
    "    \"4\": \"2023-09-15_16-47-04\",\n",
    "    \"5\": \"2023-09-15_16-47-06\",  \n",
    "}"
   ]
  },
  {
   "cell_type": "code",
   "execution_count": 7,
   "metadata": {},
   "outputs": [
    {
     "name": "stdout",
     "output_type": "stream",
     "text": [
      "Submitted batch job 437092\n",
      "Submitted batch job 437093\n",
      "Submitted batch job 437094\n",
      "Submitted batch job 437095\n",
      "Submitted batch job 437096\n"
     ]
    }
   ],
   "source": [
    "for key, value in t_850.items():\n",
    "    os.system(f\"sbatch submit_script_3_inference.sh -t rasp_thuerey_t_850_{key}day -e diffusion_t_850_{key}day -m {value} -n 5\")"
   ]
  },
  {
   "cell_type": "code",
   "execution_count": 8,
   "metadata": {},
   "outputs": [
    {
     "name": "stdout",
     "output_type": "stream",
     "text": [
      "Submitted batch job 437097\n",
      "Submitted batch job 437098\n",
      "Submitted batch job 437099\n",
      "Submitted batch job 437100\n"
     ]
    }
   ],
   "source": [
    "for key, value in z_500.items():\n",
    "    os.system(f\"sbatch submit_script_3_inference.sh -t rasp_thuerey_z_500_{key}day -e diffusion_z_500_{key}day -m {value} -n 5\")"
   ]
  },
  {
   "cell_type": "code",
   "execution_count": 3,
   "metadata": {},
   "outputs": [
    {
     "name": "stdout",
     "output_type": "stream",
     "text": [
      "Submitted batch job 437139\n"
     ]
    },
    {
     "data": {
      "text/plain": [
       "0"
      ]
     },
     "execution_count": 3,
     "metadata": {},
     "output_type": "execute_result"
    }
   ],
   "source": [
    "os.system(f\"sbatch submit_script_3_inference.sh -t rasp_thuerey_z_500_3day -e diffusion_more_patient_deeper -m 2023-09-14_14-38-48 -n 5\")"
   ]
  }
 ],
 "metadata": {
  "kernelspec": {
   "display_name": "WD_model",
   "language": "python",
   "name": "python3"
  },
  "language_info": {
   "codemirror_mode": {
    "name": "ipython",
    "version": 3
   },
   "file_extension": ".py",
   "mimetype": "text/x-python",
   "name": "python",
   "nbconvert_exporter": "python",
   "pygments_lexer": "ipython3",
   "version": "3.11.4"
  },
  "orig_nbformat": 4
 },
 "nbformat": 4,
 "nbformat_minor": 2
}
