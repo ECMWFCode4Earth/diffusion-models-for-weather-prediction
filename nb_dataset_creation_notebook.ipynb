{
 "cells": [
  {
   "attachments": {},
   "cell_type": "markdown",
   "metadata": {},
   "source": [
    "# Develop a dataset creation process that also works for the conditional case:\n",
    "\n",
    "The function that creates the dataset should take the following arguments:\n",
    "\n",
    "- root directory in which the Weatherbench Dataset got installed\n",
    "- startdate and enddate for each test- train- and validation set. Datetime objects.\n",
    "- Variables: dict.\n",
    "\n",
    "- delta_t between timesteps (int)\n",
    "- lead_time (int, in terms of timesteps)\n",
    "- conditioning_timesteps (list of ints)\n",
    "\n",
    "As long as the dataset size still allows it, write the data to a single .pt file."
   ]
  },
  {
   "cell_type": "code",
   "execution_count": 2,
   "metadata": {},
   "outputs": [],
   "source": [
    "# from WD.datasets import write_conditional_datasets\n",
    "\n",
    "# new refactored function:\n",
    "from WD.datasets import write_conditional_datasets, Conditional_Dataset\n"
   ]
  },
  {
   "attachments": {},
   "cell_type": "markdown",
   "metadata": {},
   "source": [
    "# Write some example data sets."
   ]
  },
  {
   "cell_type": "code",
   "execution_count": 2,
   "metadata": {},
   "outputs": [
    {
     "name": "stdout",
     "output_type": "stream",
     "text": [
      "Load config file.\n",
      "Open datasets.\n",
      "Number of conditioning variables: 3\n",
      "Number of constant variables: 1\n",
      "Number of output variables: 2\n",
      "Normalize datasets.\n",
      "Slice into train, test and validation set and write to .pt files.\n",
      "{'data_specs': {'conditioning_time_step': [0, -1, -2], 'delta_t': 6, 'lead_time': 1, 'spatial_resolution': '5.625deg', 'constants': ['orography'], 'conditioning_vars': {'total_precipitation': {'level': None}, 'geopotential': {'level': [50, 250]}}, 'output_vars': {'total_precipitation': {'level': None}, 'geopotential': {'level': [500]}}}, 'exp_data': {'train': {'from': '1979-01-02 00:00:00', 'to': '2015-12-31 00:00:00'}, 'test': {'from': '2017-01-01 00:00:00', 'to': '2018-12-31 00:00:00'}, 'val': {'from': '2016-01-01 00:00:00', 'to': '2016-12-31 00:00:00'}}, 'file_structure': {'dir_WeatherBench': '/data/compoundx/WeatherBench/', 'dir_model_input': '/data/compoundx/WeatherDiff/model_input/'}, 'ds_id': 'F01A8B', 'git-rev-parse': {'dm_zoo': 'a233ea15df1416edb47f8b3afc2478677f80b82b', 'WeatherDiff': '20c45ff2a17b75adccd904c124a47ec5f31aee3c'}}\n",
      "Config file F01A8B.yml written (locked in read-only mode).\n"
     ]
    }
   ],
   "source": [
    "write_conditional_datasets(\"/data/compoundx/WeatherDiff/config_file/template.yaml\")"
   ]
  },
  {
   "attachments": {},
   "cell_type": "markdown",
   "metadata": {},
   "source": [
    "# Test Pytorch Datasets:"
   ]
  },
  {
   "cell_type": "code",
   "execution_count": 10,
   "metadata": {},
   "outputs": [],
   "source": [
    "# from WD.datasets import Conditional_Dataset, Unconditional_Dataset\n",
    "\n",
    "from WD.datasets import Conditional_Dataset, open_datasets\n",
    "from WD.io import load_config\n",
    "\n",
    "import xarray as xr\n",
    "import os"
   ]
  },
  {
   "cell_type": "code",
   "execution_count": 19,
   "metadata": {},
   "outputs": [],
   "source": [
    "config = load_config(\"/data/compoundx/WeatherDiff/config_file/template_rasp_thuerey_no_precip.yml\")"
   ]
  },
  {
   "cell_type": "code",
   "execution_count": 20,
   "metadata": {},
   "outputs": [],
   "source": [
    "conditioning_variables = config.data_specs.conditioning_vars.toDict()\n",
    "output_variables = config.data_specs.output_vars.toDict()"
   ]
  },
  {
   "cell_type": "code",
   "execution_count": 8,
   "metadata": {},
   "outputs": [
    {
     "data": {
      "text/plain": [
       "{'temperature': {'level': [50, 250, 500, 600, 700, 850, 925]},\n",
       " 'geopotential': {'level': [50, 250, 500, 600, 700, 850, 925]},\n",
       " 'u_component_of_wind': {'level': [50, 250, 500, 600, 700, 850, 925]},\n",
       " 'v_component_of_wind': {'level': [50, 250, 500, 600, 700, 850, 925]},\n",
       " 'specific_humidity': {'level': [50, 250, 500, 600, 700, 850, 925]},\n",
       " '2m_temperature': None,\n",
       " 'total_precipitation': None,\n",
       " 'toa_incident_solar_radiation': None}"
      ]
     },
     "execution_count": 8,
     "metadata": {},
     "output_type": "execute_result"
    }
   ],
   "source": [
    "conditioning_variables"
   ]
  },
  {
   "cell_type": "code",
   "execution_count": 16,
   "metadata": {},
   "outputs": [
    {
     "name": "stdout",
     "output_type": "stream",
     "text": [
      "{'level': [50, 250, 500, 600, 700, 850, 925]}\n",
      "/data/compoundx/WeatherBench/temperature/*_5.625deg.nc\n"
     ]
    },
    {
     "name": "stderr",
     "output_type": "stream",
     "text": [
      "<frozen importlib._bootstrap>:241: RuntimeWarning: numpy.ndarray size changed, may indicate binary incompatibility. Expected 16 from C header, got 96 from PyObject\n"
     ]
    },
    {
     "name": "stdout",
     "output_type": "stream",
     "text": [
      "{'level': [50, 250, 500, 600, 700, 850, 925]}\n",
      "/data/compoundx/WeatherBench/geopotential/*_5.625deg.nc\n"
     ]
    },
    {
     "ename": "KeyboardInterrupt",
     "evalue": "",
     "output_type": "error",
     "traceback": [
      "\u001b[0;31m---------------------------------------------------------------------------\u001b[0m",
      "\u001b[0;31mKeyboardInterrupt\u001b[0m                         Traceback (most recent call last)",
      "Cell \u001b[0;32mIn[16], line 13\u001b[0m\n\u001b[1;32m      7\u001b[0m path \u001b[39m=\u001b[39m os\u001b[39m.\u001b[39mpath\u001b[39m.\u001b[39mjoin(\n\u001b[1;32m      8\u001b[0m     root_dir,\n\u001b[1;32m      9\u001b[0m     foldername,\n\u001b[1;32m     10\u001b[0m     \u001b[39m\"\u001b[39m\u001b[39m*_\u001b[39m\u001b[39m{}\u001b[39;00m\u001b[39m.nc\u001b[39m\u001b[39m\"\u001b[39m\u001b[39m.\u001b[39mformat(spatial_resolution),\n\u001b[1;32m     11\u001b[0m )\n\u001b[1;32m     12\u001b[0m \u001b[39mprint\u001b[39m(path)\n\u001b[0;32m---> 13\u001b[0m ds \u001b[39m=\u001b[39m xr\u001b[39m.\u001b[39;49mopen_mfdataset(path)\n\u001b[1;32m     14\u001b[0m \u001b[39m\u001b[39m\u001b[39m\"\"\"\u001b[39;00m\n\u001b[1;32m     15\u001b[0m \u001b[39massert len(ds.keys()) == 1\u001b[39;00m\n\u001b[1;32m     16\u001b[0m \u001b[39mvarname = list(ds.keys())[0]\u001b[39;00m\n\u001b[0;32m   (...)\u001b[0m\n\u001b[1;32m     38\u001b[0m \u001b[39m    res_datasets.append(ds)\u001b[39;00m\n\u001b[1;32m     39\u001b[0m \u001b[39m\"\"\"\u001b[39;00m\n",
      "File \u001b[0;32m~/.conda/envs/TORCH311/lib/python3.11/site-packages/xarray/backends/api.py:996\u001b[0m, in \u001b[0;36mopen_mfdataset\u001b[0;34m(paths, chunks, concat_dim, compat, preprocess, engine, data_vars, coords, combine, parallel, join, attrs_file, combine_attrs, **kwargs)\u001b[0m\n\u001b[1;32m    993\u001b[0m     open_ \u001b[39m=\u001b[39m open_dataset\n\u001b[1;32m    994\u001b[0m     getattr_ \u001b[39m=\u001b[39m \u001b[39mgetattr\u001b[39m\n\u001b[0;32m--> 996\u001b[0m datasets \u001b[39m=\u001b[39m [open_(p, \u001b[39m*\u001b[39;49m\u001b[39m*\u001b[39;49mopen_kwargs) \u001b[39mfor\u001b[39;49;00m p \u001b[39min\u001b[39;49;00m paths]\n\u001b[1;32m    997\u001b[0m closers \u001b[39m=\u001b[39m [getattr_(ds, \u001b[39m\"\u001b[39m\u001b[39m_close\u001b[39m\u001b[39m\"\u001b[39m) \u001b[39mfor\u001b[39;00m ds \u001b[39min\u001b[39;00m datasets]\n\u001b[1;32m    998\u001b[0m \u001b[39mif\u001b[39;00m preprocess \u001b[39mis\u001b[39;00m \u001b[39mnot\u001b[39;00m \u001b[39mNone\u001b[39;00m:\n",
      "File \u001b[0;32m~/.conda/envs/TORCH311/lib/python3.11/site-packages/xarray/backends/api.py:996\u001b[0m, in \u001b[0;36m<listcomp>\u001b[0;34m(.0)\u001b[0m\n\u001b[1;32m    993\u001b[0m     open_ \u001b[39m=\u001b[39m open_dataset\n\u001b[1;32m    994\u001b[0m     getattr_ \u001b[39m=\u001b[39m \u001b[39mgetattr\u001b[39m\n\u001b[0;32m--> 996\u001b[0m datasets \u001b[39m=\u001b[39m [open_(p, \u001b[39m*\u001b[39;49m\u001b[39m*\u001b[39;49mopen_kwargs) \u001b[39mfor\u001b[39;00m p \u001b[39min\u001b[39;00m paths]\n\u001b[1;32m    997\u001b[0m closers \u001b[39m=\u001b[39m [getattr_(ds, \u001b[39m\"\u001b[39m\u001b[39m_close\u001b[39m\u001b[39m\"\u001b[39m) \u001b[39mfor\u001b[39;00m ds \u001b[39min\u001b[39;00m datasets]\n\u001b[1;32m    998\u001b[0m \u001b[39mif\u001b[39;00m preprocess \u001b[39mis\u001b[39;00m \u001b[39mnot\u001b[39;00m \u001b[39mNone\u001b[39;00m:\n",
      "File \u001b[0;32m~/.conda/envs/TORCH311/lib/python3.11/site-packages/xarray/backends/api.py:523\u001b[0m, in \u001b[0;36mopen_dataset\u001b[0;34m(filename_or_obj, engine, chunks, cache, decode_cf, mask_and_scale, decode_times, decode_timedelta, use_cftime, concat_characters, decode_coords, drop_variables, inline_array, backend_kwargs, **kwargs)\u001b[0m\n\u001b[1;32m    520\u001b[0m     kwargs\u001b[39m.\u001b[39mupdate(backend_kwargs)\n\u001b[1;32m    522\u001b[0m \u001b[39mif\u001b[39;00m engine \u001b[39mis\u001b[39;00m \u001b[39mNone\u001b[39;00m:\n\u001b[0;32m--> 523\u001b[0m     engine \u001b[39m=\u001b[39m plugins\u001b[39m.\u001b[39;49mguess_engine(filename_or_obj)\n\u001b[1;32m    525\u001b[0m backend \u001b[39m=\u001b[39m plugins\u001b[39m.\u001b[39mget_backend(engine)\n\u001b[1;32m    527\u001b[0m decoders \u001b[39m=\u001b[39m _resolve_decoders_kwargs(\n\u001b[1;32m    528\u001b[0m     decode_cf,\n\u001b[1;32m    529\u001b[0m     open_backend_dataset_parameters\u001b[39m=\u001b[39mbackend\u001b[39m.\u001b[39mopen_dataset_parameters,\n\u001b[0;32m   (...)\u001b[0m\n\u001b[1;32m    535\u001b[0m     decode_coords\u001b[39m=\u001b[39mdecode_coords,\n\u001b[1;32m    536\u001b[0m )\n",
      "File \u001b[0;32m~/.conda/envs/TORCH311/lib/python3.11/site-packages/xarray/backends/plugins.py:136\u001b[0m, in \u001b[0;36mguess_engine\u001b[0;34m(store_spec)\u001b[0m\n\u001b[1;32m    134\u001b[0m \u001b[39mfor\u001b[39;00m engine, backend \u001b[39min\u001b[39;00m engines\u001b[39m.\u001b[39mitems():\n\u001b[1;32m    135\u001b[0m     \u001b[39mtry\u001b[39;00m:\n\u001b[0;32m--> 136\u001b[0m         \u001b[39mif\u001b[39;00m backend\u001b[39m.\u001b[39;49mguess_can_open(store_spec):\n\u001b[1;32m    137\u001b[0m             \u001b[39mreturn\u001b[39;00m engine\n\u001b[1;32m    138\u001b[0m     \u001b[39mexcept\u001b[39;00m \u001b[39mException\u001b[39;00m:\n",
      "File \u001b[0;32m~/.conda/envs/TORCH311/lib/python3.11/site-packages/xarray/backends/netCDF4_.py:541\u001b[0m, in \u001b[0;36mNetCDF4BackendEntrypoint.guess_can_open\u001b[0;34m(self, filename_or_obj)\u001b[0m\n\u001b[1;32m    539\u001b[0m \u001b[39mif\u001b[39;00m \u001b[39misinstance\u001b[39m(filename_or_obj, \u001b[39mstr\u001b[39m) \u001b[39mand\u001b[39;00m is_remote_uri(filename_or_obj):\n\u001b[1;32m    540\u001b[0m     \u001b[39mreturn\u001b[39;00m \u001b[39mTrue\u001b[39;00m\n\u001b[0;32m--> 541\u001b[0m magic_number \u001b[39m=\u001b[39m try_read_magic_number_from_path(filename_or_obj)\n\u001b[1;32m    542\u001b[0m \u001b[39mif\u001b[39;00m magic_number \u001b[39mis\u001b[39;00m \u001b[39mnot\u001b[39;00m \u001b[39mNone\u001b[39;00m:\n\u001b[1;32m    543\u001b[0m     \u001b[39m# netcdf 3 or HDF5\u001b[39;00m\n\u001b[1;32m    544\u001b[0m     \u001b[39mreturn\u001b[39;00m magic_number\u001b[39m.\u001b[39mstartswith((\u001b[39mb\u001b[39m\u001b[39m\"\u001b[39m\u001b[39mCDF\u001b[39m\u001b[39m\"\u001b[39m, \u001b[39mb\u001b[39m\u001b[39m\"\u001b[39m\u001b[39m\\211\u001b[39;00m\u001b[39mHDF\u001b[39m\u001b[39m\\r\u001b[39;00m\u001b[39m\\n\u001b[39;00m\u001b[39m\\032\u001b[39;00m\u001b[39m\\n\u001b[39;00m\u001b[39m\"\u001b[39m))\n",
      "File \u001b[0;32m~/.conda/envs/TORCH311/lib/python3.11/site-packages/xarray/core/utils.py:674\u001b[0m, in \u001b[0;36mtry_read_magic_number_from_path\u001b[0;34m(pathlike, count)\u001b[0m\n\u001b[1;32m    672\u001b[0m \u001b[39mtry\u001b[39;00m:\n\u001b[1;32m    673\u001b[0m     \u001b[39mwith\u001b[39;00m \u001b[39mopen\u001b[39m(path, \u001b[39m\"\u001b[39m\u001b[39mrb\u001b[39m\u001b[39m\"\u001b[39m) \u001b[39mas\u001b[39;00m f:\n\u001b[0;32m--> 674\u001b[0m         \u001b[39mreturn\u001b[39;00m read_magic_number_from_file(f, count)\n\u001b[1;32m    675\u001b[0m \u001b[39mexcept\u001b[39;00m (\u001b[39mFileNotFoundError\u001b[39;00m, \u001b[39mTypeError\u001b[39;00m):\n\u001b[1;32m    676\u001b[0m     \u001b[39mpass\u001b[39;00m\n",
      "File \u001b[0;32m~/.conda/envs/TORCH311/lib/python3.11/site-packages/xarray/core/utils.py:662\u001b[0m, in \u001b[0;36mread_magic_number_from_file\u001b[0;34m(filename_or_obj, count)\u001b[0m\n\u001b[1;32m    656\u001b[0m     \u001b[39mif\u001b[39;00m filename_or_obj\u001b[39m.\u001b[39mtell() \u001b[39m!=\u001b[39m \u001b[39m0\u001b[39m:\n\u001b[1;32m    657\u001b[0m         \u001b[39mraise\u001b[39;00m \u001b[39mValueError\u001b[39;00m(\n\u001b[1;32m    658\u001b[0m             \u001b[39m\"\u001b[39m\u001b[39mcannot guess the engine, \u001b[39m\u001b[39m\"\u001b[39m\n\u001b[1;32m    659\u001b[0m             \u001b[39m\"\u001b[39m\u001b[39mfile-like object read/write pointer not at the start of the file, \u001b[39m\u001b[39m\"\u001b[39m\n\u001b[1;32m    660\u001b[0m             \u001b[39m\"\u001b[39m\u001b[39mplease close and reopen, or use a context manager\u001b[39m\u001b[39m\"\u001b[39m\n\u001b[1;32m    661\u001b[0m         )\n\u001b[0;32m--> 662\u001b[0m     magic_number \u001b[39m=\u001b[39m filename_or_obj\u001b[39m.\u001b[39mread(count)\n\u001b[1;32m    663\u001b[0m     filename_or_obj\u001b[39m.\u001b[39mseek(\u001b[39m0\u001b[39m)\n\u001b[1;32m    664\u001b[0m \u001b[39melse\u001b[39;00m:\n",
      "\u001b[0;31mKeyboardInterrupt\u001b[0m: "
     ]
    }
   ],
   "source": [
    "res_datasets = []\n",
    "root_dir = \"/data/compoundx/WeatherBench/\"\n",
    "spatial_resolution = \"5.625deg\"\n",
    "\n",
    "for foldername, var_config in conditioning_variables.items():\n",
    "    print(var_config)\n",
    "    path = os.path.join(\n",
    "        root_dir,\n",
    "        foldername,\n",
    "        \"*_{}.nc\".format(spatial_resolution),\n",
    "    )\n",
    "    print(path)\n",
    "    ds = xr.open_mfdataset(path)\n",
    "    \"\"\"\n",
    "    assert len(ds.keys()) == 1\n",
    "    varname = list(ds.keys())[0]\n",
    "\n",
    "    if varname == \"tp\":\n",
    "        ds = ds.rolling(time=6).sum()  # take 6 hour average\n",
    "        ds[\"tp\"] = transform_precipitation(ds)\n",
    "\n",
    "    # extract desired pressure levels:\n",
    "    if var_config[\"level\"] is not None:\n",
    "        datasets = create_variables_from_pressure_levels(\n",
    "            ds=ds, var_config=var_config\n",
    "        )\n",
    "        res_datasets.extend(datasets)\n",
    "    else:\n",
    "        if \"level\" in ds.dims:\n",
    "            assert ds.level.size == 1, (\n",
    "                \"The given dataset is defined at more\"\n",
    "                \" than one pressure level, but no\"\n",
    "                \" pressure levels were selected in the\"\n",
    "                \" configuration file.\"\n",
    "            )\n",
    "        if \"level\" in ds.var():\n",
    "            ds = ds.drop_vars(\"level\")\n",
    "        res_datasets.append(ds)\n",
    "    \"\"\""
   ]
  },
  {
   "cell_type": "code",
   "execution_count": 22,
   "metadata": {},
   "outputs": [],
   "source": [
    "a = open_datasets(\"/data/compoundx/WeatherBench/\", conditioning_variables, \"5.625deg\")"
   ]
  },
  {
   "cell_type": "code",
   "execution_count": 3,
   "metadata": {},
   "outputs": [],
   "source": [
    "ds_train = Conditional_Dataset(\n",
    "    pt_file_path=\"/data/compoundx/WeatherDiff/model_input/E0876B_train.pt\",\n",
    "    config_file_path=\"/data/compoundx/WeatherDiff/config_file/E0876B.yml\"\n",
    ")\n",
    "\n",
    "# for old version, it would have been called like this:\n",
    "# ds_train = Conditional_Dataset(pt_file_path=\"/data/compoundx/WeatherDiff/input_data/6A9C62_train.pt\")"
   ]
  }
 ],
 "metadata": {
  "kernelspec": {
   "display_name": "TORCH311",
   "language": "python",
   "name": "python3"
  },
  "language_info": {
   "codemirror_mode": {
    "name": "ipython",
    "version": 3
   },
   "file_extension": ".py",
   "mimetype": "text/x-python",
   "name": "python",
   "nbconvert_exporter": "python",
   "pygments_lexer": "ipython3",
   "version": "3.11.3"
  },
  "orig_nbformat": 4
 },
 "nbformat": 4,
 "nbformat_minor": 2
}
