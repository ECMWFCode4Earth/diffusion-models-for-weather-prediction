{
 "cells": [
  {
   "attachments": {},
   "cell_type": "markdown",
   "metadata": {},
   "source": [
    "# Develop a dataset creation process that also works for the conditional case:\n",
    "\n",
    "The function that creates the dataset should take the following arguments:\n",
    "\n",
    "- root directory in which the Weatherbench Dataset got installed\n",
    "- startdate and enddate for each test- train- and validation set. Datetime objects.\n",
    "- Variables: dict.\n",
    "\n",
    "- delta_t between timesteps (int)\n",
    "- lead_time (int, in terms of timesteps)\n",
    "- conditioning_timesteps (list of ints)\n",
    "\n",
    "As long as the dataset size still allows it, write the data to a single .pt file."
   ]
  },
  {
   "cell_type": "code",
   "execution_count": 2,
   "metadata": {},
   "outputs": [],
   "source": [
    "# from WD.datasets import write_conditional_datasets\n",
    "\n",
    "# new refactored function:\n",
    "from WD.datasets import write_conditional_datasets, Conditional_Dataset\n"
   ]
  },
  {
   "attachments": {},
   "cell_type": "markdown",
   "metadata": {},
   "source": [
    "# Write some example data sets."
   ]
  },
  {
   "cell_type": "code",
   "execution_count": 2,
   "metadata": {},
   "outputs": [
    {
     "name": "stdout",
     "output_type": "stream",
     "text": [
      "Load config file.\n",
      "Open datasets.\n",
      "Number of conditioning variables: 3\n",
      "Number of constant variables: 1\n",
      "Number of output variables: 2\n",
      "Normalize datasets.\n",
      "Slice into train, test and validation set and write to .pt files.\n",
      "{'data_specs': {'conditioning_time_step': [0, -1, -2], 'delta_t': 6, 'lead_time': 1, 'spatial_resolution': '5.625deg', 'constants': ['orography'], 'conditioning_vars': {'total_precipitation': {'level': None}, 'geopotential': {'level': [50, 250]}}, 'output_vars': {'total_precipitation': {'level': None}, 'geopotential': {'level': [500]}}}, 'exp_data': {'train': {'from': '1979-01-02 00:00:00', 'to': '2015-12-31 00:00:00'}, 'test': {'from': '2017-01-01 00:00:00', 'to': '2018-12-31 00:00:00'}, 'val': {'from': '2016-01-01 00:00:00', 'to': '2016-12-31 00:00:00'}}, 'file_structure': {'dir_WeatherBench': '/data/compoundx/WeatherBench/', 'dir_model_input': '/data/compoundx/WeatherDiff/model_input/'}, 'ds_id': 'F01A8B', 'git-rev-parse': {'dm_zoo': 'a233ea15df1416edb47f8b3afc2478677f80b82b', 'WeatherDiff': '20c45ff2a17b75adccd904c124a47ec5f31aee3c'}}\n",
      "Config file F01A8B.yml written (locked in read-only mode).\n"
     ]
    }
   ],
   "source": [
    "write_conditional_datasets(\"/data/compoundx/WeatherDiff/config_file/template.yaml\")"
   ]
  },
  {
   "attachments": {},
   "cell_type": "markdown",
   "metadata": {},
   "source": [
    "# Test Pytorch Datasets:"
   ]
  },
  {
   "cell_type": "code",
   "execution_count": 1,
   "metadata": {},
   "outputs": [],
   "source": [
    "# from WD.datasets import Conditional_Dataset, Unconditional_Dataset\n",
    "\n",
    "from WD.datasets import Conditional_Dataset"
   ]
  },
  {
   "cell_type": "code",
   "execution_count": 3,
   "metadata": {},
   "outputs": [],
   "source": [
    "ds_train = Conditional_Dataset(\n",
    "    pt_file_path=\"/data/compoundx/WeatherDiff/model_input/E0876B_train.pt\",\n",
    "    config_file_path=\"/data/compoundx/WeatherDiff/config_file/E0876B.yml\"\n",
    ")\n",
    "\n",
    "# for old version, it would have been called like this:\n",
    "# ds_train = Conditional_Dataset(pt_file_path=\"/data/compoundx/WeatherDiff/input_data/6A9C62_train.pt\")"
   ]
  }
 ],
 "metadata": {
  "kernelspec": {
   "display_name": "TORCH311",
   "language": "python",
   "name": "python3"
  },
  "language_info": {
   "codemirror_mode": {
    "name": "ipython",
    "version": 3
   },
   "file_extension": ".py",
   "mimetype": "text/x-python",
   "name": "python",
   "nbconvert_exporter": "python",
   "pygments_lexer": "ipython3",
   "version": "3.11.3"
  },
  "orig_nbformat": 4
 },
 "nbformat": 4,
 "nbformat_minor": 2
}
